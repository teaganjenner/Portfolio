{
 "cells": [
  {
   "cell_type": "code",
   "execution_count": 1,
   "metadata": {
    "colab": {},
    "colab_type": "code",
    "id": "sEoeCQMC_CQd"
   },
   "outputs": [],
   "source": [
    "%matplotlib inline"
   ]
  },
  {
   "cell_type": "code",
   "execution_count": 2,
   "metadata": {
    "colab": {},
    "colab_type": "code",
    "id": "6bYohDRI_CQo"
   },
   "outputs": [],
   "source": [
    "import numpy as np\n",
    "import time\n",
    "import seaborn as sns\n",
    "import matplotlib.pyplot as plt\n",
    "import scipy.stats as stats\n",
    "\n",
    "sns.set(style=\"whitegrid\")\n",
    "\n",
    "# You may load the dataset from URL (instead of the local file) if you wish\n",
    "auto_mpg_data = \"https://raw.githubusercontent.com/fundamentals-of-data-science/datasets/master/auto-mpg.data.txt\"\n",
    "auto_mpg_names = \"https://raw.githubusercontent.com/fundamentals-of-data-science/datasets/master/auto-mpg.names.txt\""
   ]
  },
  {
   "cell_type": "markdown",
   "metadata": {
    "colab_type": "text",
    "id": "L2mS7Nag_CQz"
   },
   "source": [
    "## Introduction\n",
    "\n",
    "Labs 9 and 10 were all about linear models, specifically linear and logistic regression. We learned how to build and interpret multivariate models by using domain knowledge, comparing the predicted and actual values of the coefficients and the credible intervals, and looking at residuals. We also applied transformations to make the models perform better and increase interpretability.\n",
    "\n",
    "Using the techniques covered during Modules 9 and 10 (lectures, labs, course notes), **build, describe, and use** a linear regression model that estimates the target variable `mpg` for the accompanying auto data set. You may use other techniques you know but you must at least use the techniques described in class and call out and describe anything \"extra\" that you do and why.\n",
    "\n",
    "Do **not** use any feature selection techniques or anything other than linear regression. Follow the method described in class.\n",
    "\n",
    "The instructions say build, **describe, and use**. You must describe all aspects of your final model (all the parameters and metrics) and use it to predict one value as described in the course notes."
   ]
  },
  {
   "cell_type": "markdown",
   "metadata": {},
   "source": [
    "## Table of Contents\n",
    "\n",
    "* [1.1 - ETL](#etl)\n",
    "* [1.2 - EDA](#eda)\n",
    "* [1.3 - Build the model](#build)\n",
    "* [1.4 - Describe the model](#describe)\n",
    "* [1.5 - Use the model](#use)"
   ]
  },
  {
   "cell_type": "markdown",
   "metadata": {
    "colab_type": "text",
    "id": "FofBSkjuFtTZ"
   },
   "source": [
    "<a id=\"etl\"></a>\n",
    "\n",
    "## 1.1 - ETL\n",
    "\n",
    "Prior to working in this document, the .txt file was converted to a .csv file using Microsoft Excel. \n",
    "\n",
    "After opening the original .txt file in Excel and separating each of the columns correctly, a new .csv file was created called `auto.csv` that contains all of the original data.\n",
    "\n",
    "Now, we can load our data into our notebook using pandas."
   ]
  },
  {
   "cell_type": "markdown",
   "metadata": {
    "colab_type": "text",
    "id": "J_R3teL9Fv0S"
   },
   "source": [
    "Imports:"
   ]
  },
  {
   "cell_type": "code",
   "execution_count": 3,
   "metadata": {},
   "outputs": [],
   "source": [
    "import pandas as pd"
   ]
  },
  {
   "cell_type": "markdown",
   "metadata": {},
   "source": [
    "Use pandas to read in the .csv file into a DataFrame called `data`."
   ]
  },
  {
   "cell_type": "code",
   "execution_count": 4,
   "metadata": {},
   "outputs": [],
   "source": [
    "data = pd.read_csv('auto.csv', header = None)"
   ]
  },
  {
   "cell_type": "markdown",
   "metadata": {},
   "source": [
    "Next, let's give each of our columns an appropriate header."
   ]
  },
  {
   "cell_type": "code",
   "execution_count": 5,
   "metadata": {},
   "outputs": [],
   "source": [
    "data.columns = [\"mpg\", \"cylinders\", \"displacement\", \"horsepower\", \"weight\", \"acceleration\", \"model_year\", \"origin\", \"car_name\"]"
   ]
  },
  {
   "cell_type": "markdown",
   "metadata": {},
   "source": [
    "We know from our supporting `auto_names.txt` file that our DataFrame should have 398 instances with 9 attributes that are as follows:\n",
    "\n",
    "```\n",
    "    1. mpg:           continuous\n",
    "    2. cylinders:     multi-valued discrete\n",
    "    3. displacement:  continuous\n",
    "    4. horsepower:    continuous\n",
    "    5. weight:        continuous\n",
    "    6. acceleration:  continuous\n",
    "    7. model year:    multi-valued discrete\n",
    "    8. origin:        multi-valued discrete\n",
    "    9. car name:      string (unique for each instance)\n",
    "```\n"
   ]
  },
  {
   "cell_type": "markdown",
   "metadata": {},
   "source": [
    "First, let's view the structure of our DataFrame to confirm that we have 398 instances of 9 variables."
   ]
  },
  {
   "cell_type": "code",
   "execution_count": 6,
   "metadata": {},
   "outputs": [
    {
     "name": "stdout",
     "output_type": "stream",
     "text": [
      "<class 'pandas.core.frame.DataFrame'>\n",
      "RangeIndex: 398 entries, 0 to 397\n",
      "Data columns (total 9 columns):\n",
      "mpg             398 non-null float64\n",
      "cylinders       398 non-null int64\n",
      "displacement    398 non-null float64\n",
      "horsepower      398 non-null object\n",
      "weight          398 non-null int64\n",
      "acceleration    398 non-null float64\n",
      "model_year      398 non-null int64\n",
      "origin          398 non-null int64\n",
      "car_name        398 non-null object\n",
      "dtypes: float64(3), int64(4), object(2)\n",
      "memory usage: 28.1+ KB\n"
     ]
    }
   ],
   "source": [
    "data.info()"
   ]
  },
  {
   "cell_type": "markdown",
   "metadata": {},
   "source": [
    "The DataFrame has 9 columns and there are 398 records (or observations) for each variable, so we know that there are no blatent missing values. We will continue to check for this as we examine our data. \n",
    "\n",
    "We also need to check that each of our variables is the correct data type. The following variables need changes:\n",
    "    \n",
    "    - `horsepower` should be float64\n",
    "    - `weight` should be float64\n",
    "    \n",
    "When we try and make `horsepower` into a float, we get an error. When we take a closer look into `horsepower` and read out .txt file, we see that there are 6 instances where horsepower is unknown and has a value of '?'. So, we need to decide how to handle this missing values. Since our DataFrame has 398 observations, for this exercise, we will drop the three observations where horsepower is unknown.\n",
    "\n",
    "Remove the 6 rows where `horsepower` has the value of '?'."
   ]
  },
  {
   "cell_type": "code",
   "execution_count": 7,
   "metadata": {},
   "outputs": [],
   "source": [
    "data = data[data['horsepower'] != '?']"
   ]
  },
  {
   "cell_type": "code",
   "execution_count": 8,
   "metadata": {},
   "outputs": [],
   "source": [
    "data = data.reset_index()"
   ]
  },
  {
   "cell_type": "markdown",
   "metadata": {},
   "source": [
    "Let's make sure that our DataFrame now has 392 entries."
   ]
  },
  {
   "cell_type": "code",
   "execution_count": 9,
   "metadata": {},
   "outputs": [
    {
     "name": "stdout",
     "output_type": "stream",
     "text": [
      "<class 'pandas.core.frame.DataFrame'>\n",
      "RangeIndex: 392 entries, 0 to 391\n",
      "Data columns (total 10 columns):\n",
      "index           392 non-null int64\n",
      "mpg             392 non-null float64\n",
      "cylinders       392 non-null int64\n",
      "displacement    392 non-null float64\n",
      "horsepower      392 non-null object\n",
      "weight          392 non-null int64\n",
      "acceleration    392 non-null float64\n",
      "model_year      392 non-null int64\n",
      "origin          392 non-null int64\n",
      "car_name        392 non-null object\n",
      "dtypes: float64(3), int64(5), object(2)\n",
      "memory usage: 30.8+ KB\n"
     ]
    }
   ],
   "source": [
    "data.info()"
   ]
  },
  {
   "cell_type": "markdown",
   "metadata": {},
   "source": [
    "Now that we have removed the missing values from `horsepower`, we can change `horsepower` and `weight` to their correct data types."
   ]
  },
  {
   "cell_type": "code",
   "execution_count": 10,
   "metadata": {},
   "outputs": [],
   "source": [
    "data['horsepower'] = data['horsepower'].astype(float)\n",
    "data['weight'] = data['weight'].astype(float)"
   ]
  },
  {
   "cell_type": "markdown",
   "metadata": {},
   "source": [
    "Finally, let's check that each of our variables has the correct data type and view the first few rows of the DataFrame."
   ]
  },
  {
   "cell_type": "code",
   "execution_count": 11,
   "metadata": {},
   "outputs": [
    {
     "name": "stdout",
     "output_type": "stream",
     "text": [
      "<class 'pandas.core.frame.DataFrame'>\n",
      "RangeIndex: 392 entries, 0 to 391\n",
      "Data columns (total 10 columns):\n",
      "index           392 non-null int64\n",
      "mpg             392 non-null float64\n",
      "cylinders       392 non-null int64\n",
      "displacement    392 non-null float64\n",
      "horsepower      392 non-null float64\n",
      "weight          392 non-null float64\n",
      "acceleration    392 non-null float64\n",
      "model_year      392 non-null int64\n",
      "origin          392 non-null int64\n",
      "car_name        392 non-null object\n",
      "dtypes: float64(5), int64(4), object(1)\n",
      "memory usage: 30.8+ KB\n"
     ]
    }
   ],
   "source": [
    "data.info()"
   ]
  },
  {
   "cell_type": "markdown",
   "metadata": {},
   "source": [
    " "
   ]
  },
  {
   "cell_type": "code",
   "execution_count": 12,
   "metadata": {},
   "outputs": [
    {
     "data": {
      "text/html": [
       "<div>\n",
       "<style scoped>\n",
       "    .dataframe tbody tr th:only-of-type {\n",
       "        vertical-align: middle;\n",
       "    }\n",
       "\n",
       "    .dataframe tbody tr th {\n",
       "        vertical-align: top;\n",
       "    }\n",
       "\n",
       "    .dataframe thead th {\n",
       "        text-align: right;\n",
       "    }\n",
       "</style>\n",
       "<table border=\"1\" class=\"dataframe\">\n",
       "  <thead>\n",
       "    <tr style=\"text-align: right;\">\n",
       "      <th></th>\n",
       "      <th>index</th>\n",
       "      <th>mpg</th>\n",
       "      <th>cylinders</th>\n",
       "      <th>displacement</th>\n",
       "      <th>horsepower</th>\n",
       "      <th>weight</th>\n",
       "      <th>acceleration</th>\n",
       "      <th>model_year</th>\n",
       "      <th>origin</th>\n",
       "      <th>car_name</th>\n",
       "    </tr>\n",
       "  </thead>\n",
       "  <tbody>\n",
       "    <tr>\n",
       "      <td>0</td>\n",
       "      <td>0</td>\n",
       "      <td>18.0</td>\n",
       "      <td>8</td>\n",
       "      <td>307.0</td>\n",
       "      <td>130.0</td>\n",
       "      <td>3504.0</td>\n",
       "      <td>12.0</td>\n",
       "      <td>70</td>\n",
       "      <td>1</td>\n",
       "      <td>\"chevrolet chevelle malibu\"</td>\n",
       "    </tr>\n",
       "    <tr>\n",
       "      <td>1</td>\n",
       "      <td>1</td>\n",
       "      <td>15.0</td>\n",
       "      <td>8</td>\n",
       "      <td>350.0</td>\n",
       "      <td>165.0</td>\n",
       "      <td>3693.0</td>\n",
       "      <td>11.5</td>\n",
       "      <td>70</td>\n",
       "      <td>1</td>\n",
       "      <td>\"buick skylark 320\"</td>\n",
       "    </tr>\n",
       "    <tr>\n",
       "      <td>2</td>\n",
       "      <td>2</td>\n",
       "      <td>18.0</td>\n",
       "      <td>8</td>\n",
       "      <td>318.0</td>\n",
       "      <td>150.0</td>\n",
       "      <td>3436.0</td>\n",
       "      <td>11.0</td>\n",
       "      <td>70</td>\n",
       "      <td>1</td>\n",
       "      <td>\"plymouth satellite\"</td>\n",
       "    </tr>\n",
       "    <tr>\n",
       "      <td>3</td>\n",
       "      <td>3</td>\n",
       "      <td>16.0</td>\n",
       "      <td>8</td>\n",
       "      <td>304.0</td>\n",
       "      <td>150.0</td>\n",
       "      <td>3433.0</td>\n",
       "      <td>12.0</td>\n",
       "      <td>70</td>\n",
       "      <td>1</td>\n",
       "      <td>\"amc rebel sst\"</td>\n",
       "    </tr>\n",
       "    <tr>\n",
       "      <td>4</td>\n",
       "      <td>4</td>\n",
       "      <td>17.0</td>\n",
       "      <td>8</td>\n",
       "      <td>302.0</td>\n",
       "      <td>140.0</td>\n",
       "      <td>3449.0</td>\n",
       "      <td>10.5</td>\n",
       "      <td>70</td>\n",
       "      <td>1</td>\n",
       "      <td>\"ford torino\"</td>\n",
       "    </tr>\n",
       "  </tbody>\n",
       "</table>\n",
       "</div>"
      ],
      "text/plain": [
       "   index   mpg  cylinders  displacement  horsepower  weight  acceleration  \\\n",
       "0      0  18.0          8         307.0       130.0  3504.0          12.0   \n",
       "1      1  15.0          8         350.0       165.0  3693.0          11.5   \n",
       "2      2  18.0          8         318.0       150.0  3436.0          11.0   \n",
       "3      3  16.0          8         304.0       150.0  3433.0          12.0   \n",
       "4      4  17.0          8         302.0       140.0  3449.0          10.5   \n",
       "\n",
       "   model_year  origin                     car_name  \n",
       "0          70       1  \"chevrolet chevelle malibu\"  \n",
       "1          70       1          \"buick skylark 320\"  \n",
       "2          70       1         \"plymouth satellite\"  \n",
       "3          70       1              \"amc rebel sst\"  \n",
       "4          70       1                \"ford torino\"  "
      ]
     },
     "execution_count": 12,
     "metadata": {},
     "output_type": "execute_result"
    }
   ],
   "source": [
    "data.head()"
   ]
  },
  {
   "cell_type": "markdown",
   "metadata": {},
   "source": [
    "We notice from a quick view of our data and from our data dictionary in the `auto_names.txt` file that the variable `car_name` may be difficult to for us to use; we are told in our data dictionary that `car_name` is a string that is unique for each instance. So, we will want to use some caution and explore this variable closely in EDA.\n",
    "\n",
    "Now, we are ready to begin EDA."
   ]
  },
  {
   "cell_type": "markdown",
   "metadata": {
    "colab_type": "text",
    "id": "FPDyEaJOFwIo"
   },
   "source": [
    "<a id=\"eda\"></a>\n",
    "\n",
    "## 1.2 - EDA\n",
    "\n",
    "We will begin our exploratory data analysis by examining each single variable individually."
   ]
  },
  {
   "cell_type": "markdown",
   "metadata": {
    "colab_type": "text",
    "id": "x7aocAadFy6f"
   },
   "source": [
    "### Single Variable Exploration\n",
    "\n",
    "The file `auto.csv` contains data about different vehicles.\n",
    "\n",
    "The variables are:\n",
    "\n",
    "* [mpg](#mpg)\n",
    "* [cylinders](#cylinders)\n",
    "* [displacement](#displacement)\n",
    "* [horsepower](#horsepower)\n",
    "* [weight](#weight)\n",
    "* [acceleration](#acceleration)\n",
    "* [model_year](#model_year)\n",
    "* [origin](#origin)\n",
    "* [car_name](#car_name)\n",
    "\n",
    "Our goal is to be able to find relationships between a car's `mpg` and the other variables. EDA is just the first step in this process. We will start by looking for patterns in each individual variable."
   ]
  },
  {
   "cell_type": "markdown",
   "metadata": {},
   "source": [
    "<a id=\"mpg\"></a>\n",
    "\n",
    "### mpg\n",
    "\n",
    "We know that `mpg` is a continuous variable and will also be our predicted variable. From prior knowledge, we know that mpg must be greater than 0 and is likely not greater than 50 (while this could be possible for some smaller diesel cars). \n",
    "\n",
    "Let's first take a look at the summary statistics for `mpg` to get a sense for its range and to see if there are any data entry errors or another unexpected values."
   ]
  },
  {
   "cell_type": "code",
   "execution_count": 13,
   "metadata": {},
   "outputs": [
    {
     "data": {
      "text/plain": [
       "count    392.000000\n",
       "mean      23.445918\n",
       "std        7.805007\n",
       "min        9.000000\n",
       "25%       17.000000\n",
       "50%       22.750000\n",
       "75%       29.000000\n",
       "max       46.600000\n",
       "Name: mpg, dtype: float64"
      ]
     },
     "execution_count": 13,
     "metadata": {},
     "output_type": "execute_result"
    }
   ],
   "source": [
    "data.mpg.describe()"
   ]
  },
  {
   "cell_type": "markdown",
   "metadata": {},
   "source": [
    "The minimum `mpg` is $9$ while the maximum is $46.6$. These are both within ranges that are reasonable for different types of vehicles. The median (50%) is also slightly lower than the mean which suggests that there is a leftward skew."
   ]
  },
  {
   "cell_type": "markdown",
   "metadata": {},
   "source": [
    "Since `mpg` is numerical, we can also view a histogram of the data."
   ]
  },
  {
   "cell_type": "code",
   "execution_count": 14,
   "metadata": {},
   "outputs": [
    {
     "data": {
      "image/png": "[encoded data removed]",
      "text/plain": [
       "<Figure size 720x432 with 1 Axes>"
      ]
     },
     "metadata": {},
     "output_type": "display_data"
    }
   ],
   "source": [
    "figure = plt.figure(figsize=(10, 6))\n",
    "\n",
    "axes = figure.add_subplot(1, 1, 1)\n",
    "axes.hist(data.mpg, density = True, color=\"darkslategray\")\n",
    "axes.set_title(\"Density of mpg\")\n",
    "axes.set_xlabel(\"mpg\")\n",
    "\n",
    "plt.show()\n",
    "plt.close()"
   ]
  },
  {
   "cell_type": "markdown",
   "metadata": {},
   "source": [
    "We notice that besides our first and last bins, each sequential bin has a smaller count than the previous bin.\n",
    "\n",
    "Given the shape of the data, we may need to look at `mpg` on a log scale."
   ]
  },
  {
   "cell_type": "markdown",
   "metadata": {},
   "source": [
    "<a id=\"cylinders\"></a>\n",
    "\n",
    "### cylinders\n",
    "\n",
    "Cylinders indicates the number of cylinders in the engine of the vehicle. Typically, a vehicle with more cylinders has more power, and vehicles with less cylinders have better fuel economy.\n",
    "\n",
    "In our data dictionary, `cylinders` is indicated as a multi-valued discrete variable. So, we can perform numerical calculations on the data, but we can also view the variable as categories, since it is multi-valued discrete.\n",
    "\n",
    "We will first take a quick look at the descriptive statistics. "
   ]
  },
  {
   "cell_type": "code",
   "execution_count": 15,
   "metadata": {},
   "outputs": [
    {
     "data": {
      "text/plain": [
       "count    392.000000\n",
       "mean       5.471939\n",
       "std        1.705783\n",
       "min        3.000000\n",
       "25%        4.000000\n",
       "50%        4.000000\n",
       "75%        8.000000\n",
       "max        8.000000\n",
       "Name: cylinders, dtype: float64"
      ]
     },
     "execution_count": 15,
     "metadata": {},
     "output_type": "execute_result"
    }
   ],
   "source": [
    "data.cylinders.describe()"
   ]
  },
  {
   "cell_type": "markdown",
   "metadata": {},
   "source": [
    "We see that the minimum number of cylinders is $3$ while the maximum is $8$.\n",
    "\n",
    "Next, let's look at the proportions for each number of cylinders."
   ]
  },
  {
   "cell_type": "code",
   "execution_count": 16,
   "metadata": {},
   "outputs": [
    {
     "data": {
      "text/html": [
       "<div>\n",
       "<style scoped>\n",
       "    .dataframe tbody tr th:only-of-type {\n",
       "        vertical-align: middle;\n",
       "    }\n",
       "\n",
       "    .dataframe tbody tr th {\n",
       "        vertical-align: top;\n",
       "    }\n",
       "\n",
       "    .dataframe thead th {\n",
       "        text-align: right;\n",
       "    }\n",
       "</style>\n",
       "<table border=\"1\" class=\"dataframe\">\n",
       "  <thead>\n",
       "    <tr style=\"text-align: right;\">\n",
       "      <th></th>\n",
       "      <th>cylinders</th>\n",
       "    </tr>\n",
       "  </thead>\n",
       "  <tbody>\n",
       "    <tr>\n",
       "      <td>4</td>\n",
       "      <td>0.507653</td>\n",
       "    </tr>\n",
       "    <tr>\n",
       "      <td>8</td>\n",
       "      <td>0.262755</td>\n",
       "    </tr>\n",
       "    <tr>\n",
       "      <td>6</td>\n",
       "      <td>0.211735</td>\n",
       "    </tr>\n",
       "    <tr>\n",
       "      <td>3</td>\n",
       "      <td>0.010204</td>\n",
       "    </tr>\n",
       "    <tr>\n",
       "      <td>5</td>\n",
       "      <td>0.007653</td>\n",
       "    </tr>\n",
       "  </tbody>\n",
       "</table>\n",
       "</div>"
      ],
      "text/plain": [
       "   cylinders\n",
       "4   0.507653\n",
       "8   0.262755\n",
       "6   0.211735\n",
       "3   0.010204\n",
       "5   0.007653"
      ]
     },
     "execution_count": 16,
     "metadata": {},
     "output_type": "execute_result"
    }
   ],
   "source": [
    "pd.DataFrame(data[\"cylinders\"].value_counts(normalize = True))"
   ]
  },
  {
   "cell_type": "markdown",
   "metadata": {},
   "source": [
    "Over $50 \\%$ of the vehicles in our dataset have $4$ cylinder engines while approximately $26 \\%$ of vehicles have $8$ cylinder engines. We can also view this information as a histogram."
   ]
  },
  {
   "cell_type": "code",
   "execution_count": 17,
   "metadata": {},
   "outputs": [
    {
     "data": {
      "image/png": "[encoded data removed]",
      "text/plain": [
       "<Figure size 864x432 with 1 Axes>"
      ]
     },
     "metadata": {},
     "output_type": "display_data"
    }
   ],
   "source": [
    "counts = data[\"cylinders\"].value_counts().sort_index()\n",
    "proportions = data[\"cylinders\"].value_counts(normalize=True).sort_index()\n",
    "x = range( len( counts))\n",
    "width = 1/1.5\n",
    "\n",
    "figure = plt.figure(figsize=(12, 6))\n",
    "\n",
    "axes = figure.add_subplot(1, 1, 1)\n",
    "axes.bar(x, proportions, width, color=\"dimgray\", align=\"center\")\n",
    "axes.set_xticks([0, 1, 2, 3, 4])\n",
    "axes.set_xticklabels(proportions.axes[0])\n",
    "axes.set_title( \"Relative Frequency of $cylinders$\")\n",
    "axes.set_ylabel( \"Percent\")\n",
    "axes.xaxis.grid(False)\n",
    "\n",
    "plt.show()\n",
    "plt.close()"
   ]
  },
  {
   "cell_type": "markdown",
   "metadata": {},
   "source": [
    "We see that $3$ cylinder and $5$ cylinder engines are relatively uncommon; this is consistent with the knowledge that these engines are harder to balance than even-number cylinder engines. For this reason, many car manufacturers have stopped production of vehicles with these size engines."
   ]
  },
  {
   "cell_type": "markdown",
   "metadata": {},
   "source": [
    "<a id=\"displacement\"></a>\n",
    "\n",
    "### displacement\n",
    "\n",
    "Displacement is the measure of the cylinlder volume that is swept by all of the pistons of a piston engine, excluding combustion chambers. So, `displacement` is commonly used as an expression of an engine's size and by extension, as a loose indicator of the power that an engine might be capable of producing and the amount of fuel it should be expected to consume. Therefore, we would expect that as `displacement` increases, `mpg` would decrease (and vice versa).\n",
    "\n",
    "The calculation for displacement includes multiplying by the number of cylinders. We should be mindful of this likely correlation between these two variables as we continue through EDA and creating our linear model.\n",
    "\n",
    "Displacement is a continuous (float) variable. So, we can look at the descriptive statistics."
   ]
  },
  {
   "cell_type": "code",
   "execution_count": 18,
   "metadata": {},
   "outputs": [
    {
     "data": {
      "text/plain": [
       "count    392.000000\n",
       "mean     194.411990\n",
       "std      104.644004\n",
       "min       68.000000\n",
       "25%      105.000000\n",
       "50%      151.000000\n",
       "75%      275.750000\n",
       "max      455.000000\n",
       "Name: displacement, dtype: float64"
      ]
     },
     "execution_count": 18,
     "metadata": {},
     "output_type": "execute_result"
    }
   ],
   "source": [
    "data.displacement.describe()"
   ]
  },
  {
   "cell_type": "markdown",
   "metadata": {},
   "source": [
    "We see that we have a minimum value of $68$. This value is positive and greater than $0$ which is what we would expect. We also note the high standard deviation.\n",
    "\n",
    "Next, view the histogram of the density of `displacement`."
   ]
  },
  {
   "cell_type": "code",
   "execution_count": 19,
   "metadata": {},
   "outputs": [
    {
     "data": {
      "image/png": "[encoded data removed]",
      "text/plain": [
       "<Figure size 720x432 with 1 Axes>"
      ]
     },
     "metadata": {},
     "output_type": "display_data"
    }
   ],
   "source": [
    "figure = plt.figure(figsize=(10, 6))\n",
    "\n",
    "axes = figure.add_subplot(1, 1, 1)\n",
    "axes.hist(data.displacement, density = True, color=\"darkslategray\")\n",
    "axes.set_title(\"Density of displacement\")\n",
    "axes.set_xlabel(\"displacement\")\n",
    "\n",
    "plt.show()\n",
    "plt.close()"
   ]
  },
  {
   "cell_type": "markdown",
   "metadata": {},
   "source": [
    "The shape of the density histogram of displacement is irregular; some of the middle bins have significantly smaller densities that we might expect based on the surrounding bins. However, if we consider what we have mentioned earlier that displacement is calculated by multiplying by the number of cylinders, this makes more sense. \n",
    "\n",
    "We know that approximately $50 \\%$ of the vehicles have 4-cylinder engines. So, it makes sense that the majority of the displacements are on the smaller end since we multiply by the number of cylinders. Then, the majority of vehicles have either 8-cylinder or 6-cylinder engines. So, we would also expect to have an array of higher displacements in two different peaks corresponding to each of these values. Finally, we have very few vehicles with 5-cylinder engines and no vehicles with 7-cylinders, so we also expect to have less displacements around where these two values would be. So, we can see the possible correlation between cylinders already in our chart of its density, and therefore, we should be mindful of this during our model building."
   ]
  },
  {
   "cell_type": "markdown",
   "metadata": {},
   "source": [
    "<a id=\"horsepower\"></a>\n",
    "\n",
    "### horsepower\n",
    "\n",
    "Horsepower is the measurement for the power than an engine can put out. In strictly mathematical terms, it is the power needed to move 500 pounds one foot in one second.\n",
    "\n",
    "Since horsepower is the measurement of power, as `horsepower` increases, we expect `mpg` to decrease.\n",
    "\n",
    "Let's look at the descriptive statistics for `horsepower`."
   ]
  },
  {
   "cell_type": "code",
   "execution_count": 20,
   "metadata": {},
   "outputs": [
    {
     "data": {
      "text/plain": [
       "count    392.000000\n",
       "mean     104.469388\n",
       "std       38.491160\n",
       "min       46.000000\n",
       "25%       75.000000\n",
       "50%       93.500000\n",
       "75%      126.000000\n",
       "max      230.000000\n",
       "Name: horsepower, dtype: float64"
      ]
     },
     "execution_count": 20,
     "metadata": {},
     "output_type": "execute_result"
    }
   ],
   "source": [
    "data.horsepower.describe()"
   ]
  },
  {
   "cell_type": "markdown",
   "metadata": {},
   "source": [
    "We see that our minimum value of $46$ is greater than $0$. Since the median is less than the mean, we also expect to see a left-skew to the distribution of horsepower. "
   ]
  },
  {
   "cell_type": "code",
   "execution_count": 21,
   "metadata": {},
   "outputs": [
    {
     "data": {
      "image/png": "[encoded data removed]",
      "text/plain": [
       "<Figure size 720x432 with 1 Axes>"
      ]
     },
     "metadata": {},
     "output_type": "display_data"
    }
   ],
   "source": [
    "figure = plt.figure(figsize=(10, 6))\n",
    "\n",
    "axes = figure.add_subplot(1, 1, 1)\n",
    "axes.hist(data.horsepower, density = True, color=\"darkslategray\")\n",
    "axes.set_title(\"Density of horsepower\")\n",
    "axes.set_xlabel(\"horsepower\")\n",
    "\n",
    "plt.show()\n",
    "plt.close()"
   ]
  },
  {
   "cell_type": "markdown",
   "metadata": {},
   "source": [
    "We do see the anticipated left-skew of the distribution."
   ]
  },
  {
   "cell_type": "markdown",
   "metadata": {},
   "source": [
    "<a id=\"weight\"></a>\n",
    "\n",
    "### weight\n",
    "\n",
    "Weight is the weight of the vehicle. Vehicles with greater weights get less mpg.\n",
    "\n",
    "Let's take a look at the descriptive statistics for `weight`."
   ]
  },
  {
   "cell_type": "code",
   "execution_count": 22,
   "metadata": {},
   "outputs": [
    {
     "data": {
      "text/plain": [
       "count     392.000000\n",
       "mean     2977.584184\n",
       "std       849.402560\n",
       "min      1613.000000\n",
       "25%      2225.250000\n",
       "50%      2803.500000\n",
       "75%      3614.750000\n",
       "max      5140.000000\n",
       "Name: weight, dtype: float64"
      ]
     },
     "execution_count": 22,
     "metadata": {},
     "output_type": "execute_result"
    }
   ],
   "source": [
    "data.weight.describe()"
   ]
  },
  {
   "cell_type": "markdown",
   "metadata": {},
   "source": [
    "By looking at these statistics, we notice that the median of $2803.5$ is less than the mean of $2977.6$. Therefore, we expect to see a slight left skewness to the distribution.\n",
    "\n",
    "Now, let's create a histogram of the distribution."
   ]
  },
  {
   "cell_type": "code",
   "execution_count": 23,
   "metadata": {},
   "outputs": [
    {
     "data": {
      "image/png": "[encoded data removed]",
      "text/plain": [
       "<Figure size 720x432 with 1 Axes>"
      ]
     },
     "metadata": {},
     "output_type": "display_data"
    }
   ],
   "source": [
    "figure = plt.figure(figsize=(10, 6))\n",
    "\n",
    "axes = figure.add_subplot(1, 1, 1)\n",
    "axes.hist(data.weight, density = True, color=\"darkslategray\")\n",
    "axes.set_title(\"Density of weight\")\n",
    "axes.set_xlabel(\"weight\")\n",
    "\n",
    "plt.show()\n",
    "plt.close()"
   ]
  },
  {
   "cell_type": "markdown",
   "metadata": {},
   "source": [
    "We indeed see the left-skew of the distribution of `weight`. "
   ]
  },
  {
   "cell_type": "markdown",
   "metadata": {},
   "source": [
    "<a id=\"acceleration\"></a>\n",
    "\n",
    "### acceleration\n",
    "\n",
    "Acceleration is the rate of change of velocity with respect to time.\n",
    "\n",
    "Drivers who utilize these greater accelerations to frequently speed up and break quickly should get poorer `mpg`. However, just because a car has the capability to undergo greater accelerations doesn't necessarily mean that the driver will do what we described above and be an \"aggressive driver\".\n",
    "\n",
    "First, let's look at the descriptive statistics for `acceleration`, which is a numerical variable."
   ]
  },
  {
   "cell_type": "code",
   "execution_count": 24,
   "metadata": {},
   "outputs": [
    {
     "data": {
      "text/plain": [
       "count    392.000000\n",
       "mean      15.541327\n",
       "std        2.758864\n",
       "min        8.000000\n",
       "25%       13.775000\n",
       "50%       15.500000\n",
       "75%       17.025000\n",
       "max       24.800000\n",
       "Name: acceleration, dtype: float64"
      ]
     },
     "execution_count": 24,
     "metadata": {},
     "output_type": "execute_result"
    }
   ],
   "source": [
    "data.acceleration.describe()"
   ]
  },
  {
   "cell_type": "markdown",
   "metadata": {},
   "source": [
    "The median of $15.5$ is slightly less than the mean of $15.54$. So, we expect to see a slight left-skew to the distribution.\n",
    "\n",
    "Now let's plot the density histogram of `acceleration`."
   ]
  },
  {
   "cell_type": "code",
   "execution_count": 25,
   "metadata": {},
   "outputs": [
    {
     "data": {
      "image/png": "[encoded data removed]",
      "text/plain": [
       "<Figure size 720x432 with 1 Axes>"
      ]
     },
     "metadata": {},
     "output_type": "display_data"
    }
   ],
   "source": [
    "figure = plt.figure(figsize=(10, 6))\n",
    "\n",
    "axes = figure.add_subplot(1, 1, 1)\n",
    "axes.hist(data.acceleration, density = True, color=\"darkslategray\")\n",
    "axes.set_title(\"Density of acceleration\")\n",
    "axes.set_xlabel(\"acceleration\")\n",
    "\n",
    "plt.show()\n",
    "plt.close()"
   ]
  },
  {
   "cell_type": "markdown",
   "metadata": {},
   "source": [
    "We can see the slight left-skew to the distribution. A normal distribution may represent this variable."
   ]
  },
  {
   "cell_type": "markdown",
   "metadata": {},
   "source": [
    "<a id=\"model_year\"></a>\n",
    "\n",
    "### model_year\n",
    "\n",
    "The `model_year` is the year in which the model was released. \n",
    "\n",
    "This is a multi-valued discrete variable. So, while it is an integer and we can perform calculations on it, we could also consider this variable as categorical with each year being its own category.\n",
    "\n",
    "We will start by looking at the descriptive statistics for `model_year`."
   ]
  },
  {
   "cell_type": "code",
   "execution_count": 26,
   "metadata": {},
   "outputs": [
    {
     "data": {
      "text/plain": [
       "count    392.000000\n",
       "mean      75.979592\n",
       "std        3.683737\n",
       "min       70.000000\n",
       "25%       73.000000\n",
       "50%       76.000000\n",
       "75%       79.000000\n",
       "max       82.000000\n",
       "Name: model_year, dtype: float64"
      ]
     },
     "execution_count": 26,
     "metadata": {},
     "output_type": "execute_result"
    }
   ],
   "source": [
    "data.model_year.describe()"
   ]
  },
  {
   "cell_type": "markdown",
   "metadata": {},
   "source": [
    "The minimum `model_year` is $70$ while the maximum `model_year` is $82$. \n",
    "\n",
    "Next, let's look at the normalized counts of `model_year`."
   ]
  },
  {
   "cell_type": "code",
   "execution_count": 27,
   "metadata": {},
   "outputs": [
    {
     "data": {
      "text/html": [
       "<div>\n",
       "<style scoped>\n",
       "    .dataframe tbody tr th:only-of-type {\n",
       "        vertical-align: middle;\n",
       "    }\n",
       "\n",
       "    .dataframe tbody tr th {\n",
       "        vertical-align: top;\n",
       "    }\n",
       "\n",
       "    .dataframe thead th {\n",
       "        text-align: right;\n",
       "    }\n",
       "</style>\n",
       "<table border=\"1\" class=\"dataframe\">\n",
       "  <thead>\n",
       "    <tr style=\"text-align: right;\">\n",
       "      <th></th>\n",
       "      <th>model_year</th>\n",
       "    </tr>\n",
       "  </thead>\n",
       "  <tbody>\n",
       "    <tr>\n",
       "      <td>73</td>\n",
       "      <td>0.102041</td>\n",
       "    </tr>\n",
       "    <tr>\n",
       "      <td>78</td>\n",
       "      <td>0.091837</td>\n",
       "    </tr>\n",
       "    <tr>\n",
       "      <td>76</td>\n",
       "      <td>0.086735</td>\n",
       "    </tr>\n",
       "    <tr>\n",
       "      <td>82</td>\n",
       "      <td>0.076531</td>\n",
       "    </tr>\n",
       "    <tr>\n",
       "      <td>75</td>\n",
       "      <td>0.076531</td>\n",
       "    </tr>\n",
       "    <tr>\n",
       "      <td>79</td>\n",
       "      <td>0.073980</td>\n",
       "    </tr>\n",
       "    <tr>\n",
       "      <td>70</td>\n",
       "      <td>0.073980</td>\n",
       "    </tr>\n",
       "    <tr>\n",
       "      <td>81</td>\n",
       "      <td>0.071429</td>\n",
       "    </tr>\n",
       "    <tr>\n",
       "      <td>77</td>\n",
       "      <td>0.071429</td>\n",
       "    </tr>\n",
       "    <tr>\n",
       "      <td>72</td>\n",
       "      <td>0.071429</td>\n",
       "    </tr>\n",
       "    <tr>\n",
       "      <td>80</td>\n",
       "      <td>0.068878</td>\n",
       "    </tr>\n",
       "    <tr>\n",
       "      <td>71</td>\n",
       "      <td>0.068878</td>\n",
       "    </tr>\n",
       "    <tr>\n",
       "      <td>74</td>\n",
       "      <td>0.066327</td>\n",
       "    </tr>\n",
       "  </tbody>\n",
       "</table>\n",
       "</div>"
      ],
      "text/plain": [
       "    model_year\n",
       "73    0.102041\n",
       "78    0.091837\n",
       "76    0.086735\n",
       "82    0.076531\n",
       "75    0.076531\n",
       "79    0.073980\n",
       "70    0.073980\n",
       "81    0.071429\n",
       "77    0.071429\n",
       "72    0.071429\n",
       "80    0.068878\n",
       "71    0.068878\n",
       "74    0.066327"
      ]
     },
     "execution_count": 27,
     "metadata": {},
     "output_type": "execute_result"
    }
   ],
   "source": [
    "pd.DataFrame(data.model_year.value_counts(normalize = True))"
   ]
  },
  {
   "cell_type": "markdown",
   "metadata": {},
   "source": [
    "From the output above, we see that approximately $10.2 \\%$ of the vehicles in this dataset have a `model_year` of $73$. Contrastingly, only about $6.6 \\%$ of vehicles have a `model_year` of $74$.\n",
    "\n",
    "Now, let's view a histogram of the relative frequencies of `model_year`."
   ]
  },
  {
   "cell_type": "code",
   "execution_count": 28,
   "metadata": {},
   "outputs": [
    {
     "data": {
      "image/png": "[encoded data removed]",
      "text/plain": [
       "<Figure size 864x432 with 1 Axes>"
      ]
     },
     "metadata": {},
     "output_type": "display_data"
    }
   ],
   "source": [
    "counts = data[\"model_year\"].value_counts().sort_index()\n",
    "proportions = data[\"model_year\"].value_counts(normalize=True).sort_index()\n",
    "x = range( len( counts))\n",
    "width = 1/1.5\n",
    "\n",
    "figure = plt.figure(figsize=(12, 6))\n",
    "\n",
    "axes = figure.add_subplot(1, 1, 1)\n",
    "axes.bar(x, proportions, width, color=\"dimgray\", align=\"center\")\n",
    "axes.set_xticks([0, 1, 2, 3, 4, 5, 6, 7, 8, 9, 10, 11, 12])\n",
    "axes.set_xticklabels(proportions.axes[0])\n",
    "axes.set_title( \"Relative Frequency of $model year$\")\n",
    "axes.set_ylabel( \"Percent\")\n",
    "axes.xaxis.grid(False)\n",
    "\n",
    "plt.show()\n",
    "plt.close()"
   ]
  },
  {
   "cell_type": "markdown",
   "metadata": {},
   "source": [
    "There are a few model years that have more vehicles in our dataset (73, 76, 78 in particular). However, the remaining years still have around $7 \\%$ of the data."
   ]
  },
  {
   "cell_type": "markdown",
   "metadata": {},
   "source": [
    "<a id=\"origin\"></a>\n",
    "\n",
    "### origin\n",
    "\n",
    "Unfortunately, we don't know much about origin from our support .txt file. All that we are given is that it is multi-value discrete. This variable will most likely need to be viewed as categorical, but we can run the descriptive statistics first.\n",
    "\n",
    "View descriptive statistics:"
   ]
  },
  {
   "cell_type": "code",
   "execution_count": 29,
   "metadata": {},
   "outputs": [
    {
     "data": {
      "text/plain": [
       "count    392.000000\n",
       "mean       1.576531\n",
       "std        0.805518\n",
       "min        1.000000\n",
       "25%        1.000000\n",
       "50%        1.000000\n",
       "75%        2.000000\n",
       "max        3.000000\n",
       "Name: origin, dtype: float64"
      ]
     },
     "execution_count": 29,
     "metadata": {},
     "output_type": "execute_result"
    }
   ],
   "source": [
    "data.origin.describe()"
   ]
  },
  {
   "cell_type": "markdown",
   "metadata": {},
   "source": [
    "From these values, we see that `origin` take on the values of 1, 2, and 3. \n",
    "\n",
    "Now, let's take a look at the normalized counts of `origin`."
   ]
  },
  {
   "cell_type": "code",
   "execution_count": 30,
   "metadata": {},
   "outputs": [
    {
     "data": {
      "text/html": [
       "<div>\n",
       "<style scoped>\n",
       "    .dataframe tbody tr th:only-of-type {\n",
       "        vertical-align: middle;\n",
       "    }\n",
       "\n",
       "    .dataframe tbody tr th {\n",
       "        vertical-align: top;\n",
       "    }\n",
       "\n",
       "    .dataframe thead th {\n",
       "        text-align: right;\n",
       "    }\n",
       "</style>\n",
       "<table border=\"1\" class=\"dataframe\">\n",
       "  <thead>\n",
       "    <tr style=\"text-align: right;\">\n",
       "      <th></th>\n",
       "      <th>origin</th>\n",
       "    </tr>\n",
       "  </thead>\n",
       "  <tbody>\n",
       "    <tr>\n",
       "      <td>1</td>\n",
       "      <td>0.625000</td>\n",
       "    </tr>\n",
       "    <tr>\n",
       "      <td>3</td>\n",
       "      <td>0.201531</td>\n",
       "    </tr>\n",
       "    <tr>\n",
       "      <td>2</td>\n",
       "      <td>0.173469</td>\n",
       "    </tr>\n",
       "  </tbody>\n",
       "</table>\n",
       "</div>"
      ],
      "text/plain": [
       "     origin\n",
       "1  0.625000\n",
       "3  0.201531\n",
       "2  0.173469"
      ]
     },
     "execution_count": 30,
     "metadata": {},
     "output_type": "execute_result"
    }
   ],
   "source": [
    "pd.DataFrame(data.origin.value_counts(normalize = True))"
   ]
  },
  {
   "cell_type": "markdown",
   "metadata": {},
   "source": [
    "This tells us that $62.5 \\%$ of the vehicles in our dataset have an origin of $1$, $20.2 \\%$ have an origin of $3$ and $17.3 \\%$ have an origin of $2$.\n",
    "\n",
    "We can also view this information in a chart of relative frequencies."
   ]
  },
  {
   "cell_type": "code",
   "execution_count": 31,
   "metadata": {},
   "outputs": [
    {
     "data": {
      "image/png": "[encoded data removed]",
      "text/plain": [
       "<Figure size 864x432 with 1 Axes>"
      ]
     },
     "metadata": {},
     "output_type": "display_data"
    }
   ],
   "source": [
    "counts = data[\"origin\"].value_counts().sort_index()\n",
    "proportions = data[\"origin\"].value_counts(normalize=True).sort_index()\n",
    "x = range( len( counts))\n",
    "width = 1/1.5\n",
    "\n",
    "figure = plt.figure(figsize=(12, 6))\n",
    "\n",
    "axes = figure.add_subplot(1, 1, 1)\n",
    "axes.bar(x, proportions, width, color=\"dimgray\", align=\"center\")\n",
    "axes.set_xticks([0, 1, 2])\n",
    "axes.set_xticklabels(proportions.axes[0])\n",
    "axes.set_title( \"Relative Frequency of $origin$\")\n",
    "axes.set_ylabel( \"Percent\")\n",
    "axes.xaxis.grid(False)\n",
    "\n",
    "plt.show()\n",
    "plt.close()"
   ]
  },
  {
   "cell_type": "markdown",
   "metadata": {},
   "source": [
    "It is easy to see from this this chart that the majority of vehicles in this dataset have an origin value of $1$."
   ]
  },
  {
   "cell_type": "markdown",
   "metadata": {},
   "source": [
    "<a id=\"car_name\"></a>\n",
    "\n",
    "### car_name\n",
    "\n",
    "The `car_name` is a String (text) variable that is the name of the vehicle's make and model."
   ]
  },
  {
   "cell_type": "code",
   "execution_count": 32,
   "metadata": {},
   "outputs": [
    {
     "data": {
      "text/html": [
       "<div>\n",
       "<style scoped>\n",
       "    .dataframe tbody tr th:only-of-type {\n",
       "        vertical-align: middle;\n",
       "    }\n",
       "\n",
       "    .dataframe tbody tr th {\n",
       "        vertical-align: top;\n",
       "    }\n",
       "\n",
       "    .dataframe thead th {\n",
       "        text-align: right;\n",
       "    }\n",
       "</style>\n",
       "<table border=\"1\" class=\"dataframe\">\n",
       "  <thead>\n",
       "    <tr style=\"text-align: right;\">\n",
       "      <th></th>\n",
       "      <th>car_name</th>\n",
       "    </tr>\n",
       "  </thead>\n",
       "  <tbody>\n",
       "    <tr>\n",
       "      <td>\"amc matador\"</td>\n",
       "      <td>0.012755</td>\n",
       "    </tr>\n",
       "    <tr>\n",
       "      <td>\"ford pinto\"</td>\n",
       "      <td>0.012755</td>\n",
       "    </tr>\n",
       "    <tr>\n",
       "      <td>\"toyota corolla\"</td>\n",
       "      <td>0.012755</td>\n",
       "    </tr>\n",
       "    <tr>\n",
       "      <td>\"toyota corona\"</td>\n",
       "      <td>0.010204</td>\n",
       "    </tr>\n",
       "    <tr>\n",
       "      <td>\"peugeot 504\"</td>\n",
       "      <td>0.010204</td>\n",
       "    </tr>\n",
       "    <tr>\n",
       "      <td>...</td>\n",
       "      <td>...</td>\n",
       "    </tr>\n",
       "    <tr>\n",
       "      <td>\"ford mustang\"</td>\n",
       "      <td>0.002551</td>\n",
       "    </tr>\n",
       "    <tr>\n",
       "      <td>\"datsun 510 (sw)\"</td>\n",
       "      <td>0.002551</td>\n",
       "    </tr>\n",
       "    <tr>\n",
       "      <td>\"chevrolet bel air\"</td>\n",
       "      <td>0.002551</td>\n",
       "    </tr>\n",
       "    <tr>\n",
       "      <td>\"datsun 810\"</td>\n",
       "      <td>0.002551</td>\n",
       "    </tr>\n",
       "    <tr>\n",
       "      <td>\"volkswagen super beetle\"</td>\n",
       "      <td>0.002551</td>\n",
       "    </tr>\n",
       "  </tbody>\n",
       "</table>\n",
       "<p>301 rows × 1 columns</p>\n",
       "</div>"
      ],
      "text/plain": [
       "                           car_name\n",
       "\"amc matador\"              0.012755\n",
       "\"ford pinto\"               0.012755\n",
       "\"toyota corolla\"           0.012755\n",
       "\"toyota corona\"            0.010204\n",
       "\"peugeot 504\"              0.010204\n",
       "...                             ...\n",
       "\"ford mustang\"             0.002551\n",
       "\"datsun 510 (sw)\"          0.002551\n",
       "\"chevrolet bel air\"        0.002551\n",
       "\"datsun 810\"               0.002551\n",
       "\"volkswagen super beetle\"  0.002551\n",
       "\n",
       "[301 rows x 1 columns]"
      ]
     },
     "execution_count": 32,
     "metadata": {},
     "output_type": "execute_result"
    }
   ],
   "source": [
    "pd.DataFrame(data.car_name.value_counts(normalize = True))"
   ]
  },
  {
   "cell_type": "markdown",
   "metadata": {},
   "source": [
    "Since the DataFrame has 301 rows, we know that there are 301 unique values of `car_name` in our dataset. We also know that this is spelling and case sensitive, so if the same vehicle is in our dataset twice and is presented slightly differently (for example \"pontiac j2000 se hatback\" and \"pontiac se hatchback\" will appear separately).\n",
    "\n",
    "Due to the nature of the variable, it likely won't be super useful to use in our model but would be helpful if investigating specific instances of our dataset."
   ]
  },
  {
   "cell_type": "markdown",
   "metadata": {},
   "source": [
    "### Multiple Variable Exploration\n",
    "### mpg vs. ???\n",
    "\n",
    "Now, we will explore the relationship between `mpg`, which is the variable of main interest, and the rest of the variables. \n",
    "\n",
    "We will explore:\n",
    "\n",
    "* [mpg vs. cylinders](#mpg_cylinders)\n",
    "* [mpg vs. displacement](#mpg_displacement)\n",
    "* [mpg vs. horsepower](#mpg_horsepower)\n",
    "* [mpg vs. weight](#mpg_weight)\n",
    "* [mpg vs. acceleration](#mpg_acceleration)\n",
    "* [mpg vs. model_year](#mpg_model_year)\n",
    "* [mpg vs. origin](#mpg_origin)\n",
    "* [mpg vs. car_name](#mpg_car_name)\n",
    "\n",
    "We will define some functions which we will use throughout the rest of EDA:\n",
    "\n",
    "    - correlation\n",
    "    - multiboxplot"
   ]
  },
  {
   "cell_type": "code",
   "execution_count": 33,
   "metadata": {},
   "outputs": [],
   "source": [
    "def correlation(data, x, y):\n",
    "    print(\"Correlation coefficients:\")\n",
    "    print( \"r =\", stats.pearsonr(data[x], data[y])[0])\n",
    "    print( \"rho =\", stats.spearmanr(data[x], data[y])[0])"
   ]
  },
  {
   "cell_type": "code",
   "execution_count": 34,
   "metadata": {},
   "outputs": [],
   "source": [
    "def multiboxplot(data, numeric, categorical, skip_data_points=True):\n",
    "    figure = plt.figure(figsize=(10, 6))\n",
    "    \n",
    "    axes = figure.add_subplot(1, 1, 1)\n",
    "    \n",
    "    grouped = data.groupby(categorical)\n",
    "    labels = pd.unique(data[categorical].values)\n",
    "    labels.sort()\n",
    "    grouped_data = [grouped[numeric].get_group( k) for k in labels]\n",
    "    patch = axes.boxplot( grouped_data, labels=labels, patch_artist=True, zorder=1)\n",
    "    \n",
    "    if not skip_data_points:\n",
    "        for i, k in enumerate(labels):\n",
    "            subdata = grouped[numeric].get_group( k)\n",
    "            x = np.random.normal(i + 1, 0.01, size=len(subdata))\n",
    "            axes.plot(x, subdata, 'o', alpha=0.4, color=\"DimGray\", zorder=2)\n",
    "    \n",
    "    axes.set_xlabel(categorical)\n",
    "    axes.set_ylabel(numeric)\n",
    "    axes.set_title(\"Distribution of {0} by {1}\".format(numeric, categorical))\n",
    "    \n",
    "    plt.show()\n",
    "    plt.close()"
   ]
  },
  {
   "cell_type": "markdown",
   "metadata": {},
   "source": [
    "Now, we will begin multiple variable EDA.\n",
    "\n",
    "<a id=\"mpg_cylinders\"></a>\n",
    "\n",
    "### mpg vs cylinders\n",
    "\n",
    "`Cylinders` seems like it could be at least one explanatory variable of `mpg`.  We know from domain knowledge that vehicles with a smaller number of cylinders tend to get better fuel economy or more `mpg`. So, we expect to see some sort of a negative correlation between `cylinders` and `mpg`.\n",
    "\n",
    "First, let's look at the correlation coefficients."
   ]
  },
  {
   "cell_type": "code",
   "execution_count": 35,
   "metadata": {},
   "outputs": [
    {
     "name": "stdout",
     "output_type": "stream",
     "text": [
      "Correlation coefficients:\n",
      "r = -0.7776175081260226\n",
      "rho = -0.8231746391245731\n"
     ]
    }
   ],
   "source": [
    "correlation(data, \"cylinders\", \"mpg\")"
   ]
  },
  {
   "cell_type": "markdown",
   "metadata": {},
   "source": [
    "Pearson's correlation coefficient, $r$, is -0.7776 which indicates a strong negative relationship. Spearman's is even higher with a value of -0.8232 which might indicate that there is a slightly stronger negative monotonic relationship.\n",
    "\n",
    "Let's look at the descriptive statistics for each value of `cylinders`:"
   ]
  },
  {
   "cell_type": "code",
   "execution_count": 36,
   "metadata": {},
   "outputs": [
    {
     "name": "stdout",
     "output_type": "stream",
     "text": [
      "           count       mean       std   min    25%    50%    75%   max\n",
      "cylinders                                                             \n",
      "3            4.0  20.550000  2.564501  18.0  18.75  20.25  22.05  23.7\n",
      "4          199.0  29.283920  5.670546  18.0  25.00  28.40  32.95  46.6\n",
      "5            3.0  27.366667  8.228204  20.3  22.85  25.40  30.90  36.4\n",
      "6           83.0  19.973494  3.828809  15.0  18.00  19.00  21.00  38.0\n",
      "8          103.0  14.963107  2.836284   9.0  13.00  14.00  16.00  26.6\n"
     ]
    }
   ],
   "source": [
    "grouped = data.groupby( \"cylinders\")\n",
    "grouped_y = grouped[\"mpg\"].describe()\n",
    "print(grouped_y)"
   ]
  },
  {
   "cell_type": "markdown",
   "metadata": {},
   "source": [
    "First, we notice the small sizes of our data subsets with 3-cylinders and 5-cylinders. So, we should use some caution when drawing conclusions about these particular subsets. We notice that generally, the mean decreases as the number of cylinders increases. This is what we expected it to do. We can also create a visual to help show this relationship.\n",
    "\n",
    "Let's plot the data using a boxplot:"
   ]
  },
  {
   "cell_type": "code",
   "execution_count": 37,
   "metadata": {},
   "outputs": [
    {
     "data": {
      "image/png": "[encoded data removed]",
      "text/plain": [
       "<Figure size 720x432 with 1 Axes>"
      ]
     },
     "metadata": {},
     "output_type": "display_data"
    }
   ],
   "source": [
    "multiboxplot(data, \"mpg\", \"cylinders\")"
   ]
  },
  {
   "cell_type": "markdown",
   "metadata": {},
   "source": [
    "The boxplot visually shows that vehicles with more `cylinders` tend to have lower `mpg`. So, we see the strong, negative relationship between these two variables."
   ]
  },
  {
   "cell_type": "markdown",
   "metadata": {},
   "source": [
    "<a id=\"mpg_displacement\"></a>\n",
    "\n",
    "### mpg vs displacement\n",
    "\n",
    "We know from domain knowledge that `displacement` is commonly used as an expression of an engine's size and by extension, as a loose indicator of the power that an engine might be capable of producing and the amount of fuel it should be expected to consume. Therefore, we would expect that as `displacement` increases, `mpg` would decrease (and vice versa).\n",
    "\n",
    "First, let's look at the correlation coefficients."
   ]
  },
  {
   "cell_type": "code",
   "execution_count": 38,
   "metadata": {},
   "outputs": [
    {
     "name": "stdout",
     "output_type": "stream",
     "text": [
      "Correlation coefficients:\n",
      "r = -0.8051269467104578\n",
      "rho = -0.8552335882841171\n"
     ]
    }
   ],
   "source": [
    "correlation(data, \"displacement\", \"mpg\")"
   ]
  },
  {
   "cell_type": "markdown",
   "metadata": {},
   "source": [
    "Pearson's correlation coefficient, $r$, is -0.8051 which indicates a very strong negative relationship. Spearman's is even higher with a value of -0.8552 which might indicate that there is a slightly stronger negative monotonic relationship.\n",
    "\n",
    "Let's look at the scatterplot of these two variables:"
   ]
  },
  {
   "cell_type": "code",
   "execution_count": 39,
   "metadata": {},
   "outputs": [
    {
     "data": {
      "image/png": "[encoded data removed]",
      "text/plain": [
       "<Figure size 720x432 with 1 Axes>"
      ]
     },
     "metadata": {},
     "output_type": "display_data"
    }
   ],
   "source": [
    "figure = plt.figure(figsize=(10, 6))\n",
    "\n",
    "axes = figure.add_subplot(1, 1, 1)\n",
    "axes.scatter( data[ \"displacement\"], data[\"mpg\"], marker=\"o\", color=\"DimGray\")\n",
    "axes.set_title(\"displacement v. mpg\")\n",
    "axes.set_xlabel( \"displacement\")\n",
    "axes.set_ylabel( \"mpg\")\n",
    "\n",
    "plt.show()\n",
    "plt.close()"
   ]
  },
  {
   "cell_type": "markdown",
   "metadata": {},
   "source": [
    "We quickly notice the negative trend in the scatterplot. As `displacement` increases, `mpg` decreases. This is what we expected to see. We also notice that there is a higher variance for vehicles with smaller displacements and as displacement increases, our variances appears to decreases. However, our number of data points also decreases, so we should be a little cautious when drawing this conclusion. Finally, we also see some curvature in the scatterplot which tells us that the relationship between `displacement` and `mpg` may not necessarily be linear. So, we may consider using a transformation on `displacement` in our model."
   ]
  },
  {
   "cell_type": "markdown",
   "metadata": {},
   "source": [
    "<a id=\"mpg_horsepower\"></a>\n",
    "\n",
    "### mpg vs horsepower\n",
    "\n",
    "Since horsepower is the measurement of power, as `horsepower` increases, we expect `mpg` to decrease. So, we expect our correlation coefficients to be strong and negative.\n",
    "\n",
    "First, let's look at the correlation coefficients."
   ]
  },
  {
   "cell_type": "code",
   "execution_count": 40,
   "metadata": {},
   "outputs": [
    {
     "name": "stdout",
     "output_type": "stream",
     "text": [
      "Correlation coefficients:\n",
      "r = -0.7784267838977761\n",
      "rho = -0.8536164024453882\n"
     ]
    }
   ],
   "source": [
    "correlation(data, \"horsepower\", \"mpg\")"
   ]
  },
  {
   "cell_type": "markdown",
   "metadata": {},
   "source": [
    "Pearson's correlation coefficient, $r$, is -0.7784 which indicates a strong negative relationship. Spearman's is even higher with a value of -0.8536 which might indicate that there is a slightly stronger negative monotonic relationship.\n",
    "\n",
    "Let's look at the scatterplot of these two variables:"
   ]
  },
  {
   "cell_type": "code",
   "execution_count": 41,
   "metadata": {},
   "outputs": [
    {
     "data": {
      "image/png": "[encoded data removed]",
      "text/plain": [
       "<Figure size 720x432 with 1 Axes>"
      ]
     },
     "metadata": {},
     "output_type": "display_data"
    }
   ],
   "source": [
    "figure = plt.figure(figsize=(10, 6))\n",
    "\n",
    "axes = figure.add_subplot(1, 1, 1)\n",
    "axes.scatter( data[ \"horsepower\"], data[\"mpg\"], marker=\"o\", color=\"DimGray\")\n",
    "axes.set_title(\"horsepower v. mpg\")\n",
    "axes.set_xlabel( \"horsepower\")\n",
    "axes.set_ylabel( \"mpg\")\n",
    "\n",
    "plt.show()\n",
    "plt.close()"
   ]
  },
  {
   "cell_type": "markdown",
   "metadata": {},
   "source": [
    "We can see the negative trend in the scatterplot. As `horsepower` increases, `mpg` appears to decrease. There is also some curvature in the scatterplot which indicates that the relationship between the two variables is not necessarily linear."
   ]
  },
  {
   "cell_type": "markdown",
   "metadata": {},
   "source": [
    "<a id=\"mpg_weight\"></a>\n",
    "\n",
    "### mpg vs weight\n",
    "\n",
    "We know that vehicles that weigh more tend to have a poorer fuel economy. So, we expect to have strong, negative correlation coefficients."
   ]
  },
  {
   "cell_type": "code",
   "execution_count": 42,
   "metadata": {},
   "outputs": [
    {
     "name": "stdout",
     "output_type": "stream",
     "text": [
      "Correlation coefficients:\n",
      "r = -0.8322442148315755\n",
      "rho = -0.8755851198739869\n"
     ]
    }
   ],
   "source": [
    "correlation(data, \"weight\", \"mpg\")"
   ]
  },
  {
   "cell_type": "markdown",
   "metadata": {},
   "source": [
    "Pearson's correlation coefficient, $r$, is -0.8322 which indicates a very strong negative relationship. Spearman's is even higher with a value of -0.8756 which might indicate that there is a slightly stronger negative monotonic relationship. These are the strongest correlations we've seen yet.\n",
    "\n",
    "Let's look at the scatterplot of these two variables:"
   ]
  },
  {
   "cell_type": "code",
   "execution_count": 43,
   "metadata": {},
   "outputs": [
    {
     "data": {
      "image/png": "[encoded data removed]",
      "text/plain": [
       "<Figure size 720x432 with 1 Axes>"
      ]
     },
     "metadata": {},
     "output_type": "display_data"
    }
   ],
   "source": [
    "figure = plt.figure(figsize=(10, 6))\n",
    "\n",
    "axes = figure.add_subplot(1, 1, 1)\n",
    "axes.scatter( data[ \"weight\"], data[\"mpg\"], marker=\"o\", color=\"DimGray\")\n",
    "axes.set_title(\"weight v. mpg\")\n",
    "axes.set_xlabel( \"weight\")\n",
    "axes.set_ylabel( \"mpg\")\n",
    "\n",
    "plt.show()\n",
    "plt.close()"
   ]
  },
  {
   "cell_type": "markdown",
   "metadata": {},
   "source": [
    "Again, we see the negative correlation between `weight` and `mpg` in the scatterplot. There is also slight curvature in the plot, so the relationship between these two variables may not be strictly linear."
   ]
  },
  {
   "cell_type": "markdown",
   "metadata": {},
   "source": [
    "<a id=\"mpg_acceleration\"></a>\n",
    "\n",
    "### mpg vs acceleration\n",
    "\n",
    "We know that drivers who frequently accelerate and brake (or are aggresive drivers) tend to get poorer `mpg`. However, we also know that not all drivers are aggressive drivers. So, we shouldn't assume that just because a vehicle has greater acceleration that the driver poorly utlizes the increased acceleration.\n",
    "\n",
    "We will first look at the correlation coefficients."
   ]
  },
  {
   "cell_type": "code",
   "execution_count": 44,
   "metadata": {},
   "outputs": [
    {
     "name": "stdout",
     "output_type": "stream",
     "text": [
      "Correlation coefficients:\n",
      "r = 0.42332853690278727\n",
      "rho = 0.4415388584563648\n"
     ]
    }
   ],
   "source": [
    "correlation(data, \"acceleration\", \"mpg\")"
   ]
  },
  {
   "cell_type": "markdown",
   "metadata": {},
   "source": [
    "Pearson's correlation coefficient, $r$, is 0.4233 which indicates a weak positive relationship. Spearman's is slightly higher with a value of 0.4415 which also indicates that there is a weak positive monotonic relationship.\n",
    "\n",
    "Let's look at the scatterplot of these two variables:"
   ]
  },
  {
   "cell_type": "code",
   "execution_count": 45,
   "metadata": {},
   "outputs": [
    {
     "data": {
      "image/png": "[encoded data removed]",
      "text/plain": [
       "<Figure size 720x432 with 1 Axes>"
      ]
     },
     "metadata": {},
     "output_type": "display_data"
    }
   ],
   "source": [
    "figure = plt.figure(figsize=(10, 6))\n",
    "\n",
    "axes = figure.add_subplot(1, 1, 1)\n",
    "axes.scatter( data[ \"acceleration\"], data[\"mpg\"], marker=\"o\", color=\"DimGray\")\n",
    "axes.set_title(\"acceleration v. mpg\")\n",
    "axes.set_xlabel( \"acceleration\")\n",
    "axes.set_ylabel( \"mpg\")\n",
    "\n",
    "plt.show()\n",
    "plt.close()"
   ]
  },
  {
   "cell_type": "markdown",
   "metadata": {},
   "source": [
    "We see from the scatterplot that there is not much of a relationship between these two variables. We could possibly say that there is a slight positive trend. However, there does not appear to be a strong relationship between `acceleration` and `mpg`."
   ]
  },
  {
   "cell_type": "markdown",
   "metadata": {},
   "source": [
    "<a id=\"mpg_model_year\"></a>\n",
    "\n",
    "### mpg vs model_year\n",
    "\n",
    "`model_year` seems like it could be an explanatory variable of `mpg`. It is logical that newer vehicles may have better fuel eceonomy and therefore get more `mpg` than older vehicles. \n",
    "\n",
    "Let's first take a look at our correlation coefficients."
   ]
  },
  {
   "cell_type": "code",
   "execution_count": 46,
   "metadata": {},
   "outputs": [
    {
     "name": "stdout",
     "output_type": "stream",
     "text": [
      "Correlation coefficients:\n",
      "r = 0.5805409660907856\n",
      "rho = 0.5748408744472728\n"
     ]
    }
   ],
   "source": [
    "correlation(data, \"model_year\", \"mpg\")"
   ]
  },
  {
   "cell_type": "markdown",
   "metadata": {},
   "source": [
    "Pearson's correlation coefficient, $r$, is 0.5805 which indicates a positive relationship. Spearman's is slightly lower with a value of 0.5748 which indicates that there is a slightly weaker positive monotonic relationship.\n",
    "\n",
    "Let's look at the scatterplot and boxplot of these two variables:"
   ]
  },
  {
   "cell_type": "code",
   "execution_count": 47,
   "metadata": {},
   "outputs": [
    {
     "data": {
      "image/png": "[encoded data removed]",
      "text/plain": [
       "<Figure size 720x432 with 1 Axes>"
      ]
     },
     "metadata": {},
     "output_type": "display_data"
    }
   ],
   "source": [
    "figure = plt.figure(figsize=(10, 6))\n",
    "\n",
    "axes = figure.add_subplot(1, 1, 1)\n",
    "axes.scatter( data[ \"model_year\"], data[\"mpg\"], marker=\"o\", color=\"DimGray\")\n",
    "axes.set_title(\"model_year v. mpg\")\n",
    "axes.set_xlabel( \"model_year\")\n",
    "axes.set_ylabel( \"mpg\")\n",
    "\n",
    "plt.show()\n",
    "plt.close()"
   ]
  },
  {
   "cell_type": "code",
   "execution_count": 48,
   "metadata": {},
   "outputs": [
    {
     "data": {
      "image/png": "[encoded data removed]",
      "text/plain": [
       "<Figure size 720x432 with 1 Axes>"
      ]
     },
     "metadata": {},
     "output_type": "display_data"
    }
   ],
   "source": [
    "multiboxplot(data, \"mpg\", \"model_year\")"
   ]
  },
  {
   "cell_type": "markdown",
   "metadata": {},
   "source": [
    "We see from the boxplot that as the `model_year` increases, the `mpg` also loosely tends to increase. This relationship is not as strong as some of the other relationships in our pairwise comparisons so far."
   ]
  },
  {
   "cell_type": "markdown",
   "metadata": {},
   "source": [
    "<a id=\"mpg_origin\"></a>\n",
    "\n",
    "### mpg vs origin\n",
    "\n",
    "Cars from different countries may have different fuel economies. For example, a Volkswagen Jetta has better fuel economy than a Ford Escape. Is this consistent for ALL Volkswagen and Ford vehicles? Most likely not, but it may be the case for enough to be significant to the model.\n",
    "\n",
    "Let's look at the boxplot of `origin` and `mpg`."
   ]
  },
  {
   "cell_type": "code",
   "execution_count": 49,
   "metadata": {},
   "outputs": [
    {
     "data": {
      "image/png": "[encoded data removed]",
      "text/plain": [
       "<Figure size 720x432 with 1 Axes>"
      ]
     },
     "metadata": {},
     "output_type": "display_data"
    }
   ],
   "source": [
    "multiboxplot(data, \"mpg\", \"origin\")"
   ]
  },
  {
   "cell_type": "markdown",
   "metadata": {},
   "source": [
    "We see from the boxplot that there appears to be a difference in the distributions of these 3 origins. We can also visualize these distributions using multiple histograms."
   ]
  },
  {
   "cell_type": "code",
   "execution_count": 50,
   "metadata": {},
   "outputs": [
    {
     "data": {
      "image/png": "[encoded data removed]",
      "text/plain": [
       "<Figure size 1440x432 with 3 Axes>"
      ]
     },
     "metadata": {},
     "output_type": "display_data"
    }
   ],
   "source": [
    "grouped = data.groupby(\"origin\")\n",
    "\n",
    "figure = plt.figure(figsize=(20, 6))\n",
    "\n",
    "axes = figure.add_subplot(1, 3, 1)\n",
    "axes.hist(grouped[\"mpg\"].get_group(1),color=\"darkslategray\",density=True)\n",
    "axes.set_title(\"Male Charge distribution - Freeman Diaconis\")\n",
    "axes.set_xlabel(\"mpg\")\n",
    "axes.set_xlim((0,50))\n",
    "axes.set_ylim((0,0.09))\n",
    "\n",
    "axes = figure.add_subplot(1, 3, 2)\n",
    "axes.hist(grouped[\"mpg\"].get_group(2),color=\"darkslategray\",density=True)\n",
    "axes.set_title(\"Female Charge distribution - Freeman Diaconis\")\n",
    "axes.set_xlabel(\"mpg\")\n",
    "axes.set_xlim((0,50))\n",
    "axes.set_ylim((0,0.09))\n",
    "\n",
    "axes = figure.add_subplot(1, 3, 3)\n",
    "axes.hist(grouped[\"mpg\"].get_group(3),color=\"darkslategray\",density=True)\n",
    "axes.set_title(\"Female Charge distribution - Freeman Diaconis\")\n",
    "axes.set_xlabel(\"mpg\")\n",
    "axes.set_xlim((0,50))\n",
    "axes.set_ylim((0,0.09))\n",
    "\n",
    "plt.show()\n",
    "plt.close()"
   ]
  },
  {
   "cell_type": "markdown",
   "metadata": {},
   "source": [
    "We can see differences in the shapes of the different distributions as well as the shift in the mean values.\n",
    "\n",
    "So, we can also take a look at the correlation between `origin` and `mpg`."
   ]
  },
  {
   "cell_type": "code",
   "execution_count": 51,
   "metadata": {},
   "outputs": [
    {
     "name": "stdout",
     "output_type": "stream",
     "text": [
      "Correlation coefficients:\n",
      "r = 0.5652087567164608\n",
      "rho = 0.5804824209039191\n"
     ]
    }
   ],
   "source": [
    "correlation(data, \"mpg\", \"origin\")"
   ]
  },
  {
   "cell_type": "markdown",
   "metadata": {},
   "source": [
    "Pearson's correlation coefficient, $r$, is 0.5652 which indicates a moderate positive relationship. Spearman's is slightly higher with a value of 0.5805 which also indicates that there is a moderate positive monotonic relationship."
   ]
  },
  {
   "cell_type": "markdown",
   "metadata": {},
   "source": [
    "<a id=\"mpg_car_name\"></a>\n",
    "\n",
    "### mpg vs car_name\n",
    "\n",
    "Since we have 301 distinct car names in our dataset of 392 instances, it does not make sense to perform a comparison between `car_name` and `mpg`.\n",
    "\n",
    "`car_name` is best used to investigate any outliers or any other particular instances within our dataset to get more information on the vehicle."
   ]
  },
  {
   "cell_type": "markdown",
   "metadata": {
    "colab_type": "text",
    "id": "6_0fFpfg_Yeq"
   },
   "source": [
    "<a id=\"build\"></a>\n",
    "\n",
    "## 1.3 - Build the model\n",
    "\n",
    "Now, we will start building a linear model.\n",
    "\n",
    "First, import `models`."
   ]
  },
  {
   "cell_type": "code",
   "execution_count": 52,
   "metadata": {},
   "outputs": [],
   "source": [
    "import models"
   ]
  },
  {
   "cell_type": "markdown",
   "metadata": {},
   "source": [
    "We can a also remind ourselves of what we named each of the features in our DataFrame."
   ]
  },
  {
   "cell_type": "code",
   "execution_count": 53,
   "metadata": {},
   "outputs": [
    {
     "data": {
      "text/plain": [
       "Index(['index', 'mpg', 'cylinders', 'displacement', 'horsepower', 'weight',\n",
       "       'acceleration', 'model_year', 'origin', 'car_name'],\n",
       "      dtype='object')"
      ]
     },
     "execution_count": 53,
     "metadata": {},
     "output_type": "execute_result"
    }
   ],
   "source": [
    "data.columns"
   ]
  },
  {
   "cell_type": "markdown",
   "metadata": {},
   "source": [
    "Before we build our first model, we need to change `origin` into a set of dummy variables."
   ]
  },
  {
   "cell_type": "code",
   "execution_count": 54,
   "metadata": {},
   "outputs": [],
   "source": [
    "data = pd.concat([data, pd.get_dummies(data[\"origin\"], prefix=\"origin\")], axis=1)"
   ]
  },
  {
   "cell_type": "code",
   "execution_count": 55,
   "metadata": {},
   "outputs": [
    {
     "data": {
      "text/html": [
       "<div>\n",
       "<style scoped>\n",
       "    .dataframe tbody tr th:only-of-type {\n",
       "        vertical-align: middle;\n",
       "    }\n",
       "\n",
       "    .dataframe tbody tr th {\n",
       "        vertical-align: top;\n",
       "    }\n",
       "\n",
       "    .dataframe thead th {\n",
       "        text-align: right;\n",
       "    }\n",
       "</style>\n",
       "<table border=\"1\" class=\"dataframe\">\n",
       "  <thead>\n",
       "    <tr style=\"text-align: right;\">\n",
       "      <th></th>\n",
       "      <th>index</th>\n",
       "      <th>mpg</th>\n",
       "      <th>cylinders</th>\n",
       "      <th>displacement</th>\n",
       "      <th>horsepower</th>\n",
       "      <th>weight</th>\n",
       "      <th>acceleration</th>\n",
       "      <th>model_year</th>\n",
       "      <th>origin</th>\n",
       "      <th>car_name</th>\n",
       "      <th>origin_1</th>\n",
       "      <th>origin_2</th>\n",
       "      <th>origin_3</th>\n",
       "    </tr>\n",
       "  </thead>\n",
       "  <tbody>\n",
       "    <tr>\n",
       "      <td>0</td>\n",
       "      <td>0</td>\n",
       "      <td>18.0</td>\n",
       "      <td>8</td>\n",
       "      <td>307.0</td>\n",
       "      <td>130.0</td>\n",
       "      <td>3504.0</td>\n",
       "      <td>12.0</td>\n",
       "      <td>70</td>\n",
       "      <td>1</td>\n",
       "      <td>\"chevrolet chevelle malibu\"</td>\n",
       "      <td>1</td>\n",
       "      <td>0</td>\n",
       "      <td>0</td>\n",
       "    </tr>\n",
       "    <tr>\n",
       "      <td>1</td>\n",
       "      <td>1</td>\n",
       "      <td>15.0</td>\n",
       "      <td>8</td>\n",
       "      <td>350.0</td>\n",
       "      <td>165.0</td>\n",
       "      <td>3693.0</td>\n",
       "      <td>11.5</td>\n",
       "      <td>70</td>\n",
       "      <td>1</td>\n",
       "      <td>\"buick skylark 320\"</td>\n",
       "      <td>1</td>\n",
       "      <td>0</td>\n",
       "      <td>0</td>\n",
       "    </tr>\n",
       "    <tr>\n",
       "      <td>2</td>\n",
       "      <td>2</td>\n",
       "      <td>18.0</td>\n",
       "      <td>8</td>\n",
       "      <td>318.0</td>\n",
       "      <td>150.0</td>\n",
       "      <td>3436.0</td>\n",
       "      <td>11.0</td>\n",
       "      <td>70</td>\n",
       "      <td>1</td>\n",
       "      <td>\"plymouth satellite\"</td>\n",
       "      <td>1</td>\n",
       "      <td>0</td>\n",
       "      <td>0</td>\n",
       "    </tr>\n",
       "    <tr>\n",
       "      <td>3</td>\n",
       "      <td>3</td>\n",
       "      <td>16.0</td>\n",
       "      <td>8</td>\n",
       "      <td>304.0</td>\n",
       "      <td>150.0</td>\n",
       "      <td>3433.0</td>\n",
       "      <td>12.0</td>\n",
       "      <td>70</td>\n",
       "      <td>1</td>\n",
       "      <td>\"amc rebel sst\"</td>\n",
       "      <td>1</td>\n",
       "      <td>0</td>\n",
       "      <td>0</td>\n",
       "    </tr>\n",
       "    <tr>\n",
       "      <td>4</td>\n",
       "      <td>4</td>\n",
       "      <td>17.0</td>\n",
       "      <td>8</td>\n",
       "      <td>302.0</td>\n",
       "      <td>140.0</td>\n",
       "      <td>3449.0</td>\n",
       "      <td>10.5</td>\n",
       "      <td>70</td>\n",
       "      <td>1</td>\n",
       "      <td>\"ford torino\"</td>\n",
       "      <td>1</td>\n",
       "      <td>0</td>\n",
       "      <td>0</td>\n",
       "    </tr>\n",
       "  </tbody>\n",
       "</table>\n",
       "</div>"
      ],
      "text/plain": [
       "   index   mpg  cylinders  displacement  horsepower  weight  acceleration  \\\n",
       "0      0  18.0          8         307.0       130.0  3504.0          12.0   \n",
       "1      1  15.0          8         350.0       165.0  3693.0          11.5   \n",
       "2      2  18.0          8         318.0       150.0  3436.0          11.0   \n",
       "3      3  16.0          8         304.0       150.0  3433.0          12.0   \n",
       "4      4  17.0          8         302.0       140.0  3449.0          10.5   \n",
       "\n",
       "   model_year  origin                     car_name  origin_1  origin_2  \\\n",
       "0          70       1  \"chevrolet chevelle malibu\"         1         0   \n",
       "1          70       1          \"buick skylark 320\"         1         0   \n",
       "2          70       1         \"plymouth satellite\"         1         0   \n",
       "3          70       1              \"amc rebel sst\"         1         0   \n",
       "4          70       1                \"ford torino\"         1         0   \n",
       "\n",
       "   origin_3  \n",
       "0         0  \n",
       "1         0  \n",
       "2         0  \n",
       "3         0  \n",
       "4         0  "
      ]
     },
     "execution_count": 55,
     "metadata": {},
     "output_type": "execute_result"
    }
   ],
   "source": [
    "data.head()"
   ]
  },
  {
   "cell_type": "markdown",
   "metadata": {},
   "source": [
    "Build a linear model with all of our possible explanatory variables in it."
   ]
  },
  {
   "cell_type": "code",
   "execution_count": 56,
   "metadata": {},
   "outputs": [],
   "source": [
    "result1 = models.bootstrap_linear_regression(\"mpg ~ cylinders + displacement + horsepower + weight + acceleration + model_year + origin_1 + origin_2\", data)"
   ]
  },
  {
   "cell_type": "code",
   "execution_count": 57,
   "metadata": {},
   "outputs": [
    {
     "data": {
      "text/html": [
       "<table><tr><th colspan=3>Linear Regression Results</th></tr><th colspan=3>Coefficients</th></tr><tr><th>$\\theta$</th><th></th><th>95% BCI</th></tr><tr><td> ($\\beta_0$)</td><td>-15.10</td><td>(-24.88, -3.98)</td></tr><tr><td> cylinders  ($\\beta_1$)</td><td>-0.49</td><td>(-0.99, 0.28)</td></tr><tr><td> displacement  ($\\beta_2$)</td><td>0.02</td><td>(0.01, 0.04)</td></tr><tr><td> horsepower  ($\\beta_3$)</td><td>-0.02</td><td>(-0.04, 0.01)</td></tr><tr><td> weight  ($\\beta_4$)</td><td>-0.01</td><td>(-0.01, -0.01)</td></tr><tr><td> acceleration  ($\\beta_5$)</td><td>0.08</td><td>(-0.17, 0.29)</td></tr><tr><td> model_year  ($\\beta_6$)</td><td>0.78</td><td>(0.66, 0.89)</td></tr><tr><td> origin_1  ($\\beta_7$)</td><td>-2.85</td><td>(-3.87, -1.88)</td></tr><tr><td> origin_2 ($\\beta_8$)</td><td>-0.22</td><td>(-1.34, 1.13)</td></tr><tr><th colspan=3>Metrics</th></tr><tr><td>$\\sigma$</td><td>3.31</td><td>(2.94, 3.53)</td><td></td></tr><tr><td>$R^2$</td><td>0.82</td><td>(0.81, 0.86)</td><td></td></tr></table>"
      ],
      "text/latex": [
       "\\begin{table}[!htbp] \\begin{tabular}{lll} \\hline \\multicolumn{3}{c}{\\textbf{Linear Regression}} \\\\ \\hline \\hline \\multicolumn{3}{l}{\\textbf{Coefficients}}        \\\\ \\hline $\\theta$       &          & 95\\% BCI           \\\\ ($\\beta_0$)      & -15.10   & (-24.88, -3.98)          \\\\ cylinders  ($\\beta_1$)      & -0.49   & (-0.99, 0.28)          \\\\ displacement  ($\\beta_2$)      & 0.02   & (0.01, 0.04)          \\\\ horsepower  ($\\beta_3$)      & -0.02   & (-0.04, 0.01)          \\\\ weight  ($\\beta_4$)      & -0.01   & (-0.01, -0.01)          \\\\ acceleration  ($\\beta_5$)      & 0.08   & (-0.17, 0.29)          \\\\ model\\_year  ($\\beta_6$)      & 0.78   & (0.66, 0.89)          \\\\ origin\\_1  ($\\beta_7$)      & -2.85   & (-3.87, -1.88)          \\\\ origin\\_2 ($\\beta_8$)      & -0.22   & (-1.34, 1.13)          \\\\\\hline \\multicolumn{3}{l}{\\textbf{Metrics}}             \\\\ \\hline $\\sigma$      & 3.31   & (2.94, 3.53)          \\\\$R^2$      & 0.82   & (0.81, 0.86)          \\\\\\hline\\end{tabular}\\end{table}"
      ],
      "text/plain": [
       "<models.ResultsView at 0x1a25ea3f50>"
      ]
     },
     "execution_count": 57,
     "metadata": {},
     "output_type": "execute_result"
    }
   ],
   "source": [
    "models.describe_bootstrap_lr(result1)"
   ]
  },
  {
   "cell_type": "markdown",
   "metadata": {},
   "source": [
    "Our first model has a pretty good $R^2$ value already. Our model captures about $82\\%$ of the variabilitly of `mpg`.\n",
    "\n",
    "In EDA of `mpg`, we noted that we may want to apply a log transformation to `mpg`. Let's do this now. We will create a new feature called `log_mpg` to hold the value after this transformation."
   ]
  },
  {
   "cell_type": "code",
   "execution_count": 58,
   "metadata": {},
   "outputs": [],
   "source": [
    "data[\"log_mpg\"] = np.log10(data[\"mpg\"])"
   ]
  },
  {
   "cell_type": "markdown",
   "metadata": {},
   "source": [
    "Now, let's create anothoer model using `log_mpg` that includes all of our other original features."
   ]
  },
  {
   "cell_type": "code",
   "execution_count": 59,
   "metadata": {},
   "outputs": [],
   "source": [
    "result2 = models.bootstrap_linear_regression(\"log_mpg ~ cylinders + displacement + horsepower + weight + acceleration + model_year + origin_1 + origin_2\", data)"
   ]
  },
  {
   "cell_type": "code",
   "execution_count": 60,
   "metadata": {},
   "outputs": [
    {
     "data": {
      "text/html": [
       "<table><tr><th colspan=3>Linear Regression Results</th></tr><th colspan=3>Coefficients</th></tr><tr><th>$\\theta$</th><th></th><th>95% BCI</th></tr><tr><td> ($\\beta_0$)</td><td>0.78</td><td>(0.65, 0.94)</td></tr><tr><td> cylinders  ($\\beta_1$)</td><td>-0.01</td><td>(-0.02, -0.00)</td></tr><tr><td> displacement  ($\\beta_2$)</td><td>0.00</td><td>(0.00, 0.00)</td></tr><tr><td> horsepower  ($\\beta_3$)</td><td>-0.00</td><td>(-0.00, -0.00)</td></tr><tr><td> weight  ($\\beta_4$)</td><td>-0.00</td><td>(-0.00, -0.00)</td></tr><tr><td> acceleration  ($\\beta_5$)</td><td>-0.00</td><td>(-0.00, 0.00)</td></tr><tr><td> model_year  ($\\beta_6$)</td><td>0.01</td><td>(0.01, 0.01)</td></tr><tr><td> origin_1  ($\\beta_7$)</td><td>-0.04</td><td>(-0.05, -0.02)</td></tr><tr><td> origin_2 ($\\beta_8$)</td><td>0.00</td><td>(-0.01, 0.02)</td></tr><tr><th colspan=3>Metrics</th></tr><tr><td>$\\sigma$</td><td>0.05</td><td>(0.05, 0.05)</td><td></td></tr><tr><td>$R^2$</td><td>0.88</td><td>(0.86, 0.90)</td><td></td></tr></table>"
      ],
      "text/latex": [
       "\\begin{table}[!htbp] \\begin{tabular}{lll} \\hline \\multicolumn{3}{c}{\\textbf{Linear Regression}} \\\\ \\hline \\hline \\multicolumn{3}{l}{\\textbf{Coefficients}}        \\\\ \\hline $\\theta$       &          & 95\\% BCI           \\\\ ($\\beta_0$)      & 0.78   & (0.65, 0.94)          \\\\ cylinders  ($\\beta_1$)      & -0.01   & (-0.02, -0.00)          \\\\ displacement  ($\\beta_2$)      & 0.00   & (0.00, 0.00)          \\\\ horsepower  ($\\beta_3$)      & -0.00   & (-0.00, -0.00)          \\\\ weight  ($\\beta_4$)      & -0.00   & (-0.00, -0.00)          \\\\ acceleration  ($\\beta_5$)      & -0.00   & (-0.00, 0.00)          \\\\ model\\_year  ($\\beta_6$)      & 0.01   & (0.01, 0.01)          \\\\ origin\\_1  ($\\beta_7$)      & -0.04   & (-0.05, -0.02)          \\\\ origin\\_2 ($\\beta_8$)      & 0.00   & (-0.01, 0.02)          \\\\\\hline \\multicolumn{3}{l}{\\textbf{Metrics}}             \\\\ \\hline $\\sigma$      & 0.05   & (0.05, 0.05)          \\\\$R^2$      & 0.88   & (0.86, 0.90)          \\\\\\hline\\end{tabular}\\end{table}"
      ],
      "text/plain": [
       "<models.ResultsView at 0x1a26211190>"
      ]
     },
     "execution_count": 60,
     "metadata": {},
     "output_type": "execute_result"
    }
   ],
   "source": [
    "models.describe_bootstrap_lr(result2)"
   ]
  },
  {
   "cell_type": "markdown",
   "metadata": {},
   "source": [
    "This model captures about $88\\%$ of the variability of `log_mpg`. This is an improvement on our first model, so we will continue to use `log_mpg` over our original `mpg`.\n",
    "\n",
    "However, a couple of our coefficients are negative. So, we need to check for multicollinearity (which we expect to find between some variables from what we learned during EDA). So, let's check some correlations between some of our features where we might expect colinearity:\n",
    "\n",
    "##### cylinders &  displacement"
   ]
  },
  {
   "cell_type": "code",
   "execution_count": 61,
   "metadata": {},
   "outputs": [
    {
     "data": {
      "text/plain": [
       "0.9508233008277824"
      ]
     },
     "execution_count": 61,
     "metadata": {},
     "output_type": "execute_result"
    }
   ],
   "source": [
    "stats.pearsonr(data.cylinders, data.displacement)[0]"
   ]
  },
  {
   "cell_type": "markdown",
   "metadata": {},
   "source": [
    "##### cylinders & horsepower"
   ]
  },
  {
   "cell_type": "code",
   "execution_count": 62,
   "metadata": {},
   "outputs": [
    {
     "data": {
      "text/plain": [
       "0.8429833569186564"
      ]
     },
     "execution_count": 62,
     "metadata": {},
     "output_type": "execute_result"
    }
   ],
   "source": [
    "stats.pearsonr(data.cylinders, data.horsepower)[0]"
   ]
  },
  {
   "cell_type": "markdown",
   "metadata": {},
   "source": [
    "##### displacement & horsepower"
   ]
  },
  {
   "cell_type": "code",
   "execution_count": 63,
   "metadata": {},
   "outputs": [
    {
     "data": {
      "text/plain": [
       "0.8972570018434691"
      ]
     },
     "execution_count": 63,
     "metadata": {},
     "output_type": "execute_result"
    }
   ],
   "source": [
    "stats.pearsonr(data.displacement, data.horsepower)[0]"
   ]
  },
  {
   "cell_type": "markdown",
   "metadata": {},
   "source": [
    "We quickly see that there are linear correlations between `cylinders`, `horsepower`, and `displacement`. So, let's determine which of these 3 variables is the best and use it in our model. We will do this by calculating the correlation between each of these features and `mpg`. Whichever value is closest to $-1$ will be the feature that we will keep in our model. "
   ]
  },
  {
   "cell_type": "code",
   "execution_count": 64,
   "metadata": {},
   "outputs": [
    {
     "data": {
      "text/plain": [
       "-0.8268242782543429"
      ]
     },
     "execution_count": 64,
     "metadata": {},
     "output_type": "execute_result"
    }
   ],
   "source": [
    "stats.pearsonr(data.cylinders, data.log_mpg)[0]"
   ]
  },
  {
   "cell_type": "code",
   "execution_count": 65,
   "metadata": {},
   "outputs": [
    {
     "data": {
      "text/plain": [
       "-0.8536910382705999"
      ]
     },
     "execution_count": 65,
     "metadata": {},
     "output_type": "execute_result"
    }
   ],
   "source": [
    "stats.pearsonr(data.displacement, data.log_mpg)[0]"
   ]
  },
  {
   "cell_type": "code",
   "execution_count": 66,
   "metadata": {},
   "outputs": [
    {
     "data": {
      "text/plain": [
       "-0.8301551124981947"
      ]
     },
     "execution_count": 66,
     "metadata": {},
     "output_type": "execute_result"
    }
   ],
   "source": [
    "stats.pearsonr(data.horsepower, data.log_mpg)[0]"
   ]
  },
  {
   "cell_type": "markdown",
   "metadata": {},
   "source": [
    "Since `displacement` has the $R^2$ value closest to $-1$, we will use `displacement` in our model and remove `cylinders` and `horsepower` from our model.\n",
    "\n",
    "Let's look at this model."
   ]
  },
  {
   "cell_type": "code",
   "execution_count": 67,
   "metadata": {},
   "outputs": [],
   "source": [
    "result3 = models.bootstrap_linear_regression(\"log_mpg ~ displacement + weight + acceleration + model_year + origin_1 + origin_2\", data)"
   ]
  },
  {
   "cell_type": "code",
   "execution_count": 68,
   "metadata": {},
   "outputs": [
    {
     "data": {
      "text/html": [
       "<table><tr><th colspan=3>Linear Regression Results</th></tr><th colspan=3>Coefficients</th></tr><tr><th>$\\theta$</th><th></th><th>95% BCI</th></tr><tr><td> ($\\beta_0$)</td><td>0.65</td><td>(0.49, 0.78)</td></tr><tr><td> displacement  ($\\beta_1$)</td><td>0.00</td><td>(-0.00, 0.00)</td></tr><tr><td> weight  ($\\beta_2$)</td><td>-0.00</td><td>(-0.00, -0.00)</td></tr><tr><td> acceleration  ($\\beta_3$)</td><td>0.00</td><td>(-0.00, 0.01)</td></tr><tr><td> model_year  ($\\beta_4$)</td><td>0.01</td><td>(0.01, 0.02)</td></tr><tr><td> origin_1  ($\\beta_5$)</td><td>-0.03</td><td>(-0.04, -0.01)</td></tr><tr><td> origin_2 ($\\beta_6$)</td><td>0.00</td><td>(-0.01, 0.02)</td></tr><tr><th colspan=3>Metrics</th></tr><tr><td>$\\sigma$</td><td>0.05</td><td>(0.05, 0.06)</td><td></td></tr><tr><td>$R^2$</td><td>0.88</td><td>(0.85, 0.90)</td><td></td></tr></table>"
      ],
      "text/latex": [
       "\\begin{table}[!htbp] \\begin{tabular}{lll} \\hline \\multicolumn{3}{c}{\\textbf{Linear Regression}} \\\\ \\hline \\hline \\multicolumn{3}{l}{\\textbf{Coefficients}}        \\\\ \\hline $\\theta$       &          & 95\\% BCI           \\\\ ($\\beta_0$)      & 0.65   & (0.49, 0.78)          \\\\ displacement  ($\\beta_1$)      & 0.00   & (-0.00, 0.00)          \\\\ weight  ($\\beta_2$)      & -0.00   & (-0.00, -0.00)          \\\\ acceleration  ($\\beta_3$)      & 0.00   & (-0.00, 0.01)          \\\\ model\\_year  ($\\beta_4$)      & 0.01   & (0.01, 0.02)          \\\\ origin\\_1  ($\\beta_5$)      & -0.03   & (-0.04, -0.01)          \\\\ origin\\_2 ($\\beta_6$)      & 0.00   & (-0.01, 0.02)          \\\\\\hline \\multicolumn{3}{l}{\\textbf{Metrics}}             \\\\ \\hline $\\sigma$      & 0.05   & (0.05, 0.06)          \\\\$R^2$      & 0.88   & (0.85, 0.90)          \\\\\\hline\\end{tabular}\\end{table}"
      ],
      "text/plain": [
       "<models.ResultsView at 0x1a26afd810>"
      ]
     },
     "execution_count": 68,
     "metadata": {},
     "output_type": "execute_result"
    }
   ],
   "source": [
    "models.describe_bootstrap_lr(result3)"
   ]
  },
  {
   "cell_type": "markdown",
   "metadata": {},
   "source": [
    "We see that our $R^2$ value has not really changed. We can also calculate an adjusted r squared value which takes into account the number of features in the model. "
   ]
  },
  {
   "cell_type": "code",
   "execution_count": 69,
   "metadata": {},
   "outputs": [],
   "source": [
    "def adjusted_r_squared(result):\n",
    "    adjustment = (result[\"n\"] - 1)/(result[\"n\"] - len(result[\"coefficients\"]) - 1 - 1)\n",
    "    return 1 - (1 - result[\"r_squared\"]) * adjustment"
   ]
  },
  {
   "cell_type": "code",
   "execution_count": 70,
   "metadata": {},
   "outputs": [
    {
     "data": {
      "text/plain": [
       "0.8746294233588305"
      ]
     },
     "execution_count": 70,
     "metadata": {},
     "output_type": "execute_result"
    }
   ],
   "source": [
    "adjusted_r_squared(result3)"
   ]
  },
  {
   "cell_type": "markdown",
   "metadata": {},
   "source": [
    "This model has an adjusted r squared value of approximately $87.310\\%$. \n",
    "\n",
    "We can also explore interaction terms. We will add the interaction between `displacement` and `weight` to our model."
   ]
  },
  {
   "cell_type": "code",
   "execution_count": 71,
   "metadata": {},
   "outputs": [],
   "source": [
    "result4 = models.bootstrap_linear_regression(\"log_mpg ~ displacement + weight + acceleration + model_year + origin_1 + origin_2 + displacement:weight\", data)"
   ]
  },
  {
   "cell_type": "code",
   "execution_count": 72,
   "metadata": {},
   "outputs": [
    {
     "data": {
      "text/html": [
       "<table><tr><th colspan=3>Linear Regression Results</th></tr><th colspan=3>Coefficients</th></tr><tr><th>$\\theta$</th><th></th><th>95% BCI</th></tr><tr><td> ($\\beta_0$)</td><td>0.74</td><td>(0.55, 0.92)</td></tr><tr><td> displacement  ($\\beta_1$)</td><td>-0.00</td><td>(-0.00, -0.00)</td></tr><tr><td> weight  ($\\beta_2$)</td><td>-0.00</td><td>(-0.00, -0.00)</td></tr><tr><td> acceleration  ($\\beta_3$)</td><td>0.00</td><td>(-0.00, 0.01)</td></tr><tr><td> model_year  ($\\beta_4$)</td><td>0.01</td><td>(0.01, 0.02)</td></tr><tr><td> origin_1  ($\\beta_5$)</td><td>-0.01</td><td>(-0.03, 0.01)</td></tr><tr><td> origin_2  ($\\beta_6$)</td><td>0.01</td><td>(-0.01, 0.03)</td></tr><tr><td> displacement:weight ($\\beta_7$)</td><td>0.00</td><td>(0.00, 0.00)</td></tr><tr><th colspan=3>Metrics</th></tr><tr><td>$\\sigma$</td><td>0.05</td><td>(0.05, 0.05)</td><td></td></tr><tr><td>$R^2$</td><td>0.89</td><td>(0.87, 0.91)</td><td></td></tr></table>"
      ],
      "text/latex": [
       "\\begin{table}[!htbp] \\begin{tabular}{lll} \\hline \\multicolumn{3}{c}{\\textbf{Linear Regression}} \\\\ \\hline \\hline \\multicolumn{3}{l}{\\textbf{Coefficients}}        \\\\ \\hline $\\theta$       &          & 95\\% BCI           \\\\ ($\\beta_0$)      & 0.74   & (0.55, 0.92)          \\\\ displacement  ($\\beta_1$)      & -0.00   & (-0.00, -0.00)          \\\\ weight  ($\\beta_2$)      & -0.00   & (-0.00, -0.00)          \\\\ acceleration  ($\\beta_3$)      & 0.00   & (-0.00, 0.01)          \\\\ model\\_year  ($\\beta_4$)      & 0.01   & (0.01, 0.02)          \\\\ origin\\_1  ($\\beta_5$)      & -0.01   & (-0.03, 0.01)          \\\\ origin\\_2  ($\\beta_6$)      & 0.01   & (-0.01, 0.03)          \\\\ displacement:weight ($\\beta_7$)      & 0.00   & (0.00, 0.00)          \\\\\\hline \\multicolumn{3}{l}{\\textbf{Metrics}}             \\\\ \\hline $\\sigma$      & 0.05   & (0.05, 0.05)          \\\\$R^2$      & 0.89   & (0.87, 0.91)          \\\\\\hline\\end{tabular}\\end{table}"
      ],
      "text/plain": [
       "<models.ResultsView at 0x1a25e8c810>"
      ]
     },
     "execution_count": 72,
     "metadata": {},
     "output_type": "execute_result"
    }
   ],
   "source": [
    "models.describe_bootstrap_lr(result4)"
   ]
  },
  {
   "cell_type": "code",
   "execution_count": 73,
   "metadata": {},
   "outputs": [
    {
     "data": {
      "text/plain": [
       "0.8855785871511582"
      ]
     },
     "execution_count": 73,
     "metadata": {},
     "output_type": "execute_result"
    }
   ],
   "source": [
    "adjusted_r_squared(result4)"
   ]
  },
  {
   "cell_type": "markdown",
   "metadata": {},
   "source": [
    "This model has an r squared value of $89\\%$ and an adjusted r squared value of $88.472\\%$. This is the best model (from an $R^2$ value) we have made at this point.\n",
    "\n",
    "We can also look at the residual plot for this model:"
   ]
  },
  {
   "cell_type": "code",
   "execution_count": 74,
   "metadata": {},
   "outputs": [],
   "source": [
    "def plot_residuals(result, variables):\n",
    "    figure = plt.figure(figsize=(20,6))\n",
    "\n",
    "    #variables = [\"displacement\", \"bmi\", \"children\"]\n",
    "\n",
    "    plots = len( variables)\n",
    "    rows = (plots // 3) + 1\n",
    "\n",
    "    residuals = np.array([r[0] for r in result[\"residuals\"]])\n",
    "    limits = max(np.abs(residuals.min()), residuals.max())\n",
    "    \n",
    "    n = result[\"n\"]\n",
    "    for i, variable in enumerate( variables):\n",
    "        axes = figure.add_subplot(rows, 3, i + 1)\n",
    "\n",
    "        keyed_values = sorted(zip(data[variable].values, residuals), key=lambda x: x[ 0])\n",
    "        ordered_residuals = [x[ 1] for x in keyed_values]\n",
    "\n",
    "        axes.plot(list(range(0, n)), ordered_residuals, '.', color=\"dimgray\", alpha=0.75)\n",
    "        axes.axhline(y=0.0, xmin=0, xmax=n, c=\"firebrick\", alpha=0.5)\n",
    "        axes.set_ylim((-limits, limits))\n",
    "        axes.set_ylabel(\"residuals\")\n",
    "        axes.set_xlabel(variable)\n",
    "\n",
    "    plt.show()\n",
    "    plt.close()\n",
    "    \n",
    "    return residuals"
   ]
  },
  {
   "cell_type": "code",
   "execution_count": 75,
   "metadata": {},
   "outputs": [
    {
     "data": {
      "image/png": "[encoded data removed]",
      "text/plain": [
       "<Figure size 1440x432 with 6 Axes>"
      ]
     },
     "metadata": {},
     "output_type": "display_data"
    }
   ],
   "source": [
    "residuals1 = plot_residuals(result4, [\"displacement\", \"weight\", \"acceleration\", \"model_year\", \"origin_1\", \"origin_2\"])"
   ]
  },
  {
   "cell_type": "markdown",
   "metadata": {},
   "source": [
    "The residual plots for each of the features in our model appear to have random scatter on either side of 0 which tells us that there does seem to be other transformations that we should do to the features.\n",
    "\n",
    "Now, we will compare our predictions based on our domain knowledge to that of the actual values that we estimate, in terms of probabilities. We will use the function provided below. "
   ]
  },
  {
   "cell_type": "code",
   "execution_count": 76,
   "metadata": {},
   "outputs": [],
   "source": [
    "# {\"var1\": \"+\", \"var2\": \"-\"}\n",
    "def evaluate_coefficient_predictions(predictions, result):\n",
    "    coefficients = result[\"resampled_coefficients\"].columns\n",
    "    for coefficient in coefficients:\n",
    "        if coefficient == 'intercept':\n",
    "            continue\n",
    "        if predictions[coefficient] == '+':\n",
    "            print(\"{0} P(>0)={1:.3f}\".format(coefficient, np.mean(result[\"resampled_coefficients\"][coefficient] > 0)))\n",
    "        else:\n",
    "            print(\"{0} P(<0)={1:.3f}\".format(coefficient, np.mean(result[\"resampled_coefficients\"][coefficient] < 0)))"
   ]
  },
  {
   "cell_type": "markdown",
   "metadata": {},
   "source": [
    "From our domain knowledge, we expect the features to have the following sings (+, -):\n",
    "\n",
    "   - displacement : negative\n",
    "   - weight : negative\n",
    "   - acceleration : positive\n",
    "   - model_year : positive\n",
    "   - origin_1 : positive (from EDA)\n",
    "   - origin_2 : positive (from EDA)\n",
    "   - displacement:weight : unknown"
   ]
  },
  {
   "cell_type": "code",
   "execution_count": 77,
   "metadata": {},
   "outputs": [
    {
     "name": "stdout",
     "output_type": "stream",
     "text": [
      "displacement P(<0)=1.000\n",
      "weight P(<0)=1.000\n",
      "acceleration P(>0)=0.960\n",
      "model_year P(>0)=1.000\n",
      "origin_1 P(>0)=0.110\n",
      "origin_2 P(>0)=0.860\n",
      "displacement:weight P(>0)=1.000\n"
     ]
    }
   ],
   "source": [
    "predictions = {\n",
    "    \"displacement\": '-',\n",
    "    \"weight\": '-',\n",
    "    \"acceleration\": '+',\n",
    "    \"model_year\": '+',\n",
    "    \"origin_1\": '+',\n",
    "    \"origin_2\": '+',\n",
    "    \"displacement:weight\": '+'}\n",
    "\n",
    "evaluate_coefficient_predictions(predictions, result4)"
   ]
  },
  {
   "cell_type": "markdown",
   "metadata": {},
   "source": [
    "We see that `displacement` and `weight` have a very high probability of being negative while `acceleration`, `model_year`, `origin_2`, and `displacement:weight` have a very high probability of being positive.\n",
    "\n",
    "However, there is a very low probability that `origin_1` is positive. We need to check into this.\n",
    "\n",
    "Let's remind ourselves of the credible intervals:"
   ]
  },
  {
   "cell_type": "code",
   "execution_count": 78,
   "metadata": {},
   "outputs": [
    {
     "data": {
      "text/html": [
       "<table><tr><th colspan=3>Linear Regression Results</th></tr><th colspan=3>Coefficients</th></tr><tr><th>$\\theta$</th><th></th><th>95% BCI</th></tr><tr><td> ($\\beta_0$)</td><td>0.74</td><td>(0.55, 0.92)</td></tr><tr><td> displacement  ($\\beta_1$)</td><td>-0.00</td><td>(-0.00, -0.00)</td></tr><tr><td> weight  ($\\beta_2$)</td><td>-0.00</td><td>(-0.00, -0.00)</td></tr><tr><td> acceleration  ($\\beta_3$)</td><td>0.00</td><td>(-0.00, 0.01)</td></tr><tr><td> model_year  ($\\beta_4$)</td><td>0.01</td><td>(0.01, 0.02)</td></tr><tr><td> origin_1  ($\\beta_5$)</td><td>-0.01</td><td>(-0.03, 0.01)</td></tr><tr><td> origin_2  ($\\beta_6$)</td><td>0.01</td><td>(-0.01, 0.03)</td></tr><tr><td> displacement:weight ($\\beta_7$)</td><td>0.00</td><td>(0.00, 0.00)</td></tr><tr><th colspan=3>Metrics</th></tr><tr><td>$\\sigma$</td><td>0.05</td><td>(0.05, 0.05)</td><td></td></tr><tr><td>$R^2$</td><td>0.89</td><td>(0.87, 0.91)</td><td></td></tr></table>"
      ],
      "text/latex": [
       "\\begin{table}[!htbp] \\begin{tabular}{lll} \\hline \\multicolumn{3}{c}{\\textbf{Linear Regression}} \\\\ \\hline \\hline \\multicolumn{3}{l}{\\textbf{Coefficients}}        \\\\ \\hline $\\theta$       &          & 95\\% BCI           \\\\ ($\\beta_0$)      & 0.74   & (0.55, 0.92)          \\\\ displacement  ($\\beta_1$)      & -0.00   & (-0.00, -0.00)          \\\\ weight  ($\\beta_2$)      & -0.00   & (-0.00, -0.00)          \\\\ acceleration  ($\\beta_3$)      & 0.00   & (-0.00, 0.01)          \\\\ model\\_year  ($\\beta_4$)      & 0.01   & (0.01, 0.02)          \\\\ origin\\_1  ($\\beta_5$)      & -0.01   & (-0.03, 0.01)          \\\\ origin\\_2  ($\\beta_6$)      & 0.01   & (-0.01, 0.03)          \\\\ displacement:weight ($\\beta_7$)      & 0.00   & (0.00, 0.00)          \\\\\\hline \\multicolumn{3}{l}{\\textbf{Metrics}}             \\\\ \\hline $\\sigma$      & 0.05   & (0.05, 0.05)          \\\\$R^2$      & 0.89   & (0.87, 0.91)          \\\\\\hline\\end{tabular}\\end{table}"
      ],
      "text/plain": [
       "<models.ResultsView at 0x1a26010ed0>"
      ]
     },
     "execution_count": 78,
     "metadata": {},
     "output_type": "execute_result"
    }
   ],
   "source": [
    "models.describe_bootstrap_lr(result4)"
   ]
  },
  {
   "cell_type": "markdown",
   "metadata": {},
   "source": [
    "Since `acceleration` has an unexpected sign and the credible interval includes 0, we should remove it from our model.\n",
    "\n",
    "`origin_1` has an unexpected sign and inclues 0, so we can remove it from our model as well. We will try adding `origin_3` instead.\n",
    "\n",
    "Let's make another model with these changes."
   ]
  },
  {
   "cell_type": "code",
   "execution_count": 79,
   "metadata": {},
   "outputs": [],
   "source": [
    "result5 = models.bootstrap_linear_regression(\"log_mpg ~ displacement + weight + acceleration + model_year + origin_2 + origin_3 + displacement:weight\", data)"
   ]
  },
  {
   "cell_type": "code",
   "execution_count": 80,
   "metadata": {},
   "outputs": [
    {
     "data": {
      "text/html": [
       "<table><tr><th colspan=3>Linear Regression Results</th></tr><th colspan=3>Coefficients</th></tr><tr><th>$\\theta$</th><th></th><th>95% BCI</th></tr><tr><td> ($\\beta_0$)</td><td>0.73</td><td>(0.57, 0.89)</td></tr><tr><td> displacement  ($\\beta_1$)</td><td>-0.00</td><td>(-0.00, -0.00)</td></tr><tr><td> weight  ($\\beta_2$)</td><td>-0.00</td><td>(-0.00, -0.00)</td></tr><tr><td> acceleration  ($\\beta_3$)</td><td>0.00</td><td>(0.00, 0.01)</td></tr><tr><td> model_year  ($\\beta_4$)</td><td>0.01</td><td>(0.01, 0.02)</td></tr><tr><td> origin_2  ($\\beta_5$)</td><td>0.02</td><td>(0.00, 0.04)</td></tr><tr><td> origin_3  ($\\beta_6$)</td><td>0.01</td><td>(-0.00, 0.02)</td></tr><tr><td> displacement:weight ($\\beta_7$)</td><td>0.00</td><td>(0.00, 0.00)</td></tr><tr><th colspan=3>Metrics</th></tr><tr><td>$\\sigma$</td><td>0.05</td><td>(0.05, 0.05)</td><td></td></tr><tr><td>$R^2$</td><td>0.89</td><td>(0.87, 0.91)</td><td></td></tr></table>"
      ],
      "text/latex": [
       "\\begin{table}[!htbp] \\begin{tabular}{lll} \\hline \\multicolumn{3}{c}{\\textbf{Linear Regression}} \\\\ \\hline \\hline \\multicolumn{3}{l}{\\textbf{Coefficients}}        \\\\ \\hline $\\theta$       &          & 95\\% BCI           \\\\ ($\\beta_0$)      & 0.73   & (0.57, 0.89)          \\\\ displacement  ($\\beta_1$)      & -0.00   & (-0.00, -0.00)          \\\\ weight  ($\\beta_2$)      & -0.00   & (-0.00, -0.00)          \\\\ acceleration  ($\\beta_3$)      & 0.00   & (0.00, 0.01)          \\\\ model\\_year  ($\\beta_4$)      & 0.01   & (0.01, 0.02)          \\\\ origin\\_2  ($\\beta_5$)      & 0.02   & (0.00, 0.04)          \\\\ origin\\_3  ($\\beta_6$)      & 0.01   & (-0.00, 0.02)          \\\\ displacement:weight ($\\beta_7$)      & 0.00   & (0.00, 0.00)          \\\\\\hline \\multicolumn{3}{l}{\\textbf{Metrics}}             \\\\ \\hline $\\sigma$      & 0.05   & (0.05, 0.05)          \\\\$R^2$      & 0.89   & (0.87, 0.91)          \\\\\\hline\\end{tabular}\\end{table}"
      ],
      "text/plain": [
       "<models.ResultsView at 0x1a268b1490>"
      ]
     },
     "execution_count": 80,
     "metadata": {},
     "output_type": "execute_result"
    }
   ],
   "source": [
    "models.describe_bootstrap_lr(result5)"
   ]
  },
  {
   "cell_type": "markdown",
   "metadata": {},
   "source": [
    "We see that our $R^2$ value has not changed from our previous model. This model still captures about $89\\%$ of the variability of `log_mpg`. \n",
    "\n",
    "Now, let's take a quick look at these risidual plots."
   ]
  },
  {
   "cell_type": "code",
   "execution_count": 81,
   "metadata": {},
   "outputs": [
    {
     "data": {
      "image/png": "[encoded data removed]",
      "text/plain": [
       "<Figure size 1440x432 with 6 Axes>"
      ]
     },
     "metadata": {},
     "output_type": "display_data"
    }
   ],
   "source": [
    "residuals2 = plot_residuals(result5, [\"displacement\", \"weight\", \"acceleration\", \"model_year\", \"origin_2\", \"origin_3\"])"
   ]
  },
  {
   "cell_type": "markdown",
   "metadata": {},
   "source": [
    "We continue to see random scatter, so now let's look at our predicted signs."
   ]
  },
  {
   "cell_type": "code",
   "execution_count": 82,
   "metadata": {},
   "outputs": [
    {
     "name": "stdout",
     "output_type": "stream",
     "text": [
      "displacement P(<0)=1.000\n",
      "weight P(<0)=1.000\n",
      "acceleration P(>0)=0.980\n",
      "model_year P(>0)=1.000\n",
      "origin_2 P(>0)=0.970\n",
      "origin_3 P(>0)=0.890\n",
      "displacement:weight P(>0)=1.000\n"
     ]
    }
   ],
   "source": [
    "predictions = {\n",
    "    \"displacement\": '-',\n",
    "    \"weight\": '-',\n",
    "    \"acceleration\": '+',\n",
    "    \"model_year\": '+',\n",
    "    \"origin_2\": '+',\n",
    "    \"origin_3\": '+',\n",
    "    \"displacement:weight\": '+'}\n",
    "\n",
    "evaluate_coefficient_predictions(predictions, result5)"
   ]
  },
  {
   "cell_type": "markdown",
   "metadata": {},
   "source": [
    "Now, all of our signs have high probabilities of being what we would expect. So, we will keep all of these features in our model."
   ]
  },
  {
   "cell_type": "markdown",
   "metadata": {
    "colab_type": "text",
    "id": "VH-z_zTM5TtV"
   },
   "source": [
    "<a id=\"describe\"></a>\n",
    "\n",
    "## 1.4 - Describe the model"
   ]
  },
  {
   "cell_type": "markdown",
   "metadata": {
    "colab_type": "text",
    "id": "PaNYI6ErF8Xa"
   },
   "source": [
    "Our final model is presented again below:"
   ]
  },
  {
   "cell_type": "code",
   "execution_count": 83,
   "metadata": {},
   "outputs": [
    {
     "data": {
      "text/html": [
       "<table><tr><th colspan=3>Linear Regression Results</th></tr><th colspan=3>Coefficients</th></tr><tr><th>$\\theta$</th><th></th><th>95% BCI</th></tr><tr><td> ($\\beta_0$)</td><td>0.73</td><td>(0.57, 0.89)</td></tr><tr><td> displacement  ($\\beta_1$)</td><td>-0.00</td><td>(-0.00, -0.00)</td></tr><tr><td> weight  ($\\beta_2$)</td><td>-0.00</td><td>(-0.00, -0.00)</td></tr><tr><td> acceleration  ($\\beta_3$)</td><td>0.00</td><td>(0.00, 0.01)</td></tr><tr><td> model_year  ($\\beta_4$)</td><td>0.01</td><td>(0.01, 0.02)</td></tr><tr><td> origin_2  ($\\beta_5$)</td><td>0.02</td><td>(0.00, 0.04)</td></tr><tr><td> origin_3  ($\\beta_6$)</td><td>0.01</td><td>(-0.00, 0.02)</td></tr><tr><td> displacement:weight ($\\beta_7$)</td><td>0.00</td><td>(0.00, 0.00)</td></tr><tr><th colspan=3>Metrics</th></tr><tr><td>$\\sigma$</td><td>0.05</td><td>(0.05, 0.05)</td><td></td></tr><tr><td>$R^2$</td><td>0.89</td><td>(0.87, 0.91)</td><td></td></tr></table>"
      ],
      "text/latex": [
       "\\begin{table}[!htbp] \\begin{tabular}{lll} \\hline \\multicolumn{3}{c}{\\textbf{Linear Regression}} \\\\ \\hline \\hline \\multicolumn{3}{l}{\\textbf{Coefficients}}        \\\\ \\hline $\\theta$       &          & 95\\% BCI           \\\\ ($\\beta_0$)      & 0.73   & (0.57, 0.89)          \\\\ displacement  ($\\beta_1$)      & -0.00   & (-0.00, -0.00)          \\\\ weight  ($\\beta_2$)      & -0.00   & (-0.00, -0.00)          \\\\ acceleration  ($\\beta_3$)      & 0.00   & (0.00, 0.01)          \\\\ model\\_year  ($\\beta_4$)      & 0.01   & (0.01, 0.02)          \\\\ origin\\_2  ($\\beta_5$)      & 0.02   & (0.00, 0.04)          \\\\ origin\\_3  ($\\beta_6$)      & 0.01   & (-0.00, 0.02)          \\\\ displacement:weight ($\\beta_7$)      & 0.00   & (0.00, 0.00)          \\\\\\hline \\multicolumn{3}{l}{\\textbf{Metrics}}             \\\\ \\hline $\\sigma$      & 0.05   & (0.05, 0.05)          \\\\$R^2$      & 0.89   & (0.87, 0.91)          \\\\\\hline\\end{tabular}\\end{table}"
      ],
      "text/plain": [
       "<models.ResultsView at 0x1a268b1950>"
      ]
     },
     "execution_count": 83,
     "metadata": {},
     "output_type": "execute_result"
    }
   ],
   "source": [
    "models.describe_bootstrap_lr(result5)"
   ]
  },
  {
   "cell_type": "code",
   "execution_count": 84,
   "metadata": {},
   "outputs": [
    {
     "data": {
      "text/plain": [
       "0.8855785871511582"
      ]
     },
     "execution_count": 84,
     "metadata": {},
     "output_type": "execute_result"
    }
   ],
   "source": [
    "adjusted_r_squared(result5)"
   ]
  },
  {
   "cell_type": "markdown",
   "metadata": {},
   "source": [
    "Notice that we have left `origin_1` out of the model. So, these values are represented by the intercept term.\n",
    "\n",
    "This model has an $R^2$ value of $0.89$ and therefore captures about $89\\%$ of the variability of `log_mpg`. The model has an adjusted $R^2$ value of $0.8856$, which is not very different from its $R^2$ value.\n",
    "\n",
    "Each of the coefficients can be interpreted similar to\n",
    "\n",
    "- The estimated value of $\\beta o$ is 0.76, but there is a $95\\%$ probability that the value is between $0.65$ and $0.89$. \n",
    "\n",
    "Additionally, we have credible bounds on the error of the regression ($\\sigma$) as 0.04 to 0.05 and on the coefficient of determination ($R^2$) of $87\\%$ to $91\\%$."
   ]
  },
  {
   "cell_type": "markdown",
   "metadata": {
    "colab_type": "text",
    "id": "mZt9616O5W40"
   },
   "source": [
    "<a id=\"use\"></a>\n",
    "\n",
    "## 1.5 - Use the model"
   ]
  },
  {
   "cell_type": "markdown",
   "metadata": {
    "colab_type": "text",
    "id": "k36lbHlqF9BJ"
   },
   "source": [
    "In `result5`, we have stored all the Bootstrap estimates for the coefficients, and we therefore have enough information to do bootstrap estimates of the posterior distribution of prediction. We can use the function (from course material) to do this: "
   ]
  },
  {
   "cell_type": "code",
   "execution_count": 85,
   "metadata": {},
   "outputs": [],
   "source": [
    "def bootstrap_prediction(result, feature_values):\n",
    "    # resampled_coefficients is a DataFrame in result.\n",
    "    # each *row* is a different bootstrap model.\n",
    "    # we use a Dict instead of Vector because the order may not be preserved.\n",
    "    # we should modify this to use the model to pick the values and possibly\n",
    "    # convert interactions terms.\n",
    "    results = []\n",
    "    for coefficients in result[\"resampled_coefficients\"].itertuples():\n",
    "        estimate = 0\n",
    "        for feature in feature_values.keys():\n",
    "            estimate += feature_values[feature] * getattr(coefficients, feature)\n",
    "        results.append(estimate)\n",
    "    return np.array(results)"
   ]
  },
  {
   "cell_type": "markdown",
   "metadata": {},
   "source": [
    "Let's consider a vehicle that has the following information:\n",
    "\n",
    "- displacement = 300\n",
    "- weight = 3200\n",
    "- acceleration = 12\n",
    "- model_year = 76\n",
    "- origin_2 = 1\n",
    "- origin_3 = 0\n",
    "\n",
    "What `mpg` would we predict that this vehicle gets? We can use our model to predict this value. After getting our prediction, we will need to convert back to `mpg` from `log_mpg`."
   ]
  },
  {
   "cell_type": "code",
   "execution_count": 86,
   "metadata": {},
   "outputs": [
    {
     "data": {
      "text/plain": [
       "1.0866676385957934"
      ]
     },
     "execution_count": 86,
     "metadata": {},
     "output_type": "execute_result"
    }
   ],
   "source": [
    "feature_values = {\"intercept\": 1, \"displacement\": 300, \"weight\": 3200, \"acceleration\": 12, \"model_year\": 76, \"origin_2\": 1, \"origin_3\": 0}\n",
    "posterior_prediction = bootstrap_prediction(result5, feature_values)\n",
    "posterior_prediction.mean()"
   ]
  },
  {
   "cell_type": "code",
   "execution_count": 87,
   "metadata": {},
   "outputs": [
    {
     "data": {
      "text/plain": [
       "12.208649862902224"
      ]
     },
     "execution_count": 87,
     "metadata": {},
     "output_type": "execute_result"
    }
   ],
   "source": [
    "10 ** posterior_prediction.mean()"
   ]
  },
  {
   "cell_type": "markdown",
   "metadata": {},
   "source": [
    "We would expect that this vehicle gets approximately $12.18$ `mpg`. We can also plot a histogram of the density of `log_mpg` for vehicles with the same information."
   ]
  },
  {
   "cell_type": "code",
   "execution_count": 88,
   "metadata": {},
   "outputs": [
    {
     "data": {
      "image/png": "[encoded data removed]",
      "text/plain": [
       "<Figure size 1440x432 with 1 Axes>"
      ]
     },
     "metadata": {},
     "output_type": "display_data"
    }
   ],
   "source": [
    "figure = plt.figure(figsize=(20, 6))\n",
    "\n",
    "axes = figure.add_subplot(1, 1, 1)\n",
    "axes.hist(posterior_prediction, color=\"DimGray\", density=True)\n",
    "axes.set_xlabel( \"log_mpg\")\n",
    "axes.set_ylabel( \"Density\")\n",
    "axes.set_title(\"Histogram of log_mpg Predictions for Vehicles with Displacement Equal to 300, Weighing 3200 pounds, Made in 1976, and From Origin 2.\")\n",
    "\n",
    "plt.show()\n",
    "plt.close()"
   ]
  },
  {
   "cell_type": "markdown",
   "metadata": {},
   "source": [
    "We can also add error bounds to this prediction."
   ]
  },
  {
   "cell_type": "code",
   "execution_count": 89,
   "metadata": {},
   "outputs": [
    {
     "name": "stdout",
     "output_type": "stream",
     "text": [
      "(0.99, 1.19)\n"
     ]
    }
   ],
   "source": [
    "print(\"({0:.2f}, {1:.2f})\".format(posterior_prediction.mean() - 2 * result5[\"sigma\"], posterior_prediction.mean() + 2 * result5[\"sigma\"]))"
   ]
  },
  {
   "cell_type": "markdown",
   "metadata": {},
   "source": [
    "So, for vehicles with this information, we would predict `log_mpg` of $1.08$ and the $95\\%$ bounds would be $(0.98, 1.18)$ If we transform `log_mpg` back ingo `mpg`, the $95\\%$ error bounds would be:"
   ]
  },
  {
   "cell_type": "code",
   "execution_count": 90,
   "metadata": {},
   "outputs": [
    {
     "name": "stdout",
     "output_type": "stream",
     "text": [
      "(9.55, 15.14)\n"
     ]
    }
   ],
   "source": [
    "print(\"({0:.2f}, {1:.2f})\".format(10 ** 0.98, 10 ** 1.18))"
   ]
  },
  {
   "cell_type": "markdown",
   "metadata": {},
   "source": [
    "Let's make another prediction.\n",
    "\n",
    "Let's now consider a vehicle that has the following information:\n",
    "\n",
    "- displacement = 275\n",
    "- weight = 3000\n",
    "- acceleration = 13\n",
    "- model_year = 78\n",
    "- origin_2 = 0\n",
    "- origin_3 = 1\n",
    "\n",
    "What `mpg` would we predict that this vehicle gets?"
   ]
  },
  {
   "cell_type": "code",
   "execution_count": 91,
   "metadata": {},
   "outputs": [
    {
     "data": {
      "text/plain": [
       "1.1620349925100226"
      ]
     },
     "execution_count": 91,
     "metadata": {},
     "output_type": "execute_result"
    }
   ],
   "source": [
    "feature_values = {\"intercept\": 1, \"displacement\": 275, \"weight\": 3000, \"acceleration\": 13, \"model_year\": 78, \"origin_2\": 0, \"origin_3\": 1}\n",
    "posterior_prediction = bootstrap_prediction(result5, feature_values)\n",
    "posterior_prediction.mean()"
   ]
  },
  {
   "cell_type": "code",
   "execution_count": 92,
   "metadata": {},
   "outputs": [
    {
     "data": {
      "text/plain": [
       "14.522286236276296"
      ]
     },
     "execution_count": 92,
     "metadata": {},
     "output_type": "execute_result"
    }
   ],
   "source": [
    "10 ** posterior_prediction.mean()"
   ]
  },
  {
   "cell_type": "markdown",
   "metadata": {},
   "source": [
    "We would expect that this vehicle gets approximately $14.43$ `mpg`. The $95\\%$ error bounds for `log_mpg` and `mpg`, respectively, are given below:"
   ]
  },
  {
   "cell_type": "code",
   "execution_count": 93,
   "metadata": {},
   "outputs": [
    {
     "name": "stdout",
     "output_type": "stream",
     "text": [
      "(1.06, 1.26)\n"
     ]
    }
   ],
   "source": [
    "print(\"({0:.2f}, {1:.2f})\".format(posterior_prediction.mean() - 2 * result5[\"sigma\"], posterior_prediction.mean() + 2 * result5[\"sigma\"]))"
   ]
  },
  {
   "cell_type": "code",
   "execution_count": 94,
   "metadata": {},
   "outputs": [
    {
     "name": "stdout",
     "output_type": "stream",
     "text": [
      "(11.22, 17.78)\n"
     ]
    }
   ],
   "source": [
    "print(\"({0:.2f}, {1:.2f})\".format(10 ** 1.05, 10 ** 1.25))"
   ]
  }
 ],
 "metadata": {
  "colab": {
   "collapsed_sections": [],
   "name": "Problem Set 5.ipynb",
   "provenance": [],
   "toc_visible": true
  },
  "kernelspec": {
   "display_name": "Python 3",
   "language": "python",
   "name": "python3"
  },
  "language_info": {
   "codemirror_mode": {
    "name": "ipython",
    "version": 3
   },
   "file_extension": ".py",
   "mimetype": "text/x-python",
   "name": "python",
   "nbconvert_exporter": "python",
   "pygments_lexer": "ipython3",
   "version": "3.7.4"
  },
  "toc": {
   "colors": {
    "hover_highlight": "#DAA520",
    "navigate_num": "#000000",
    "navigate_text": "#333333",
    "running_highlight": "#FF0000",
    "selected_highlight": "#FFD700",
    "sidebar_border": "#EEEEEE",
    "wrapper_background": "#FFFFFF"
   },
   "moveMenuLeft": true,
   "nav_menu": {
    "height": "66px",
    "width": "252px"
   },
   "navigate_menu": true,
   "number_sections": true,
   "sideBar": true,
   "threshold": 4,
   "toc_cell": false,
   "toc_section_display": "block",
   "toc_window_display": false,
   "widenNotebook": false
  }
 },
 "nbformat": 4,
 "nbformat_minor": 1
}
